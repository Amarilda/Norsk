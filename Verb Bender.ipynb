{
 "cells": [
  {
   "cell_type": "code",
   "execution_count": 1,
   "metadata": {
    "ExecuteTime": {
     "end_time": "2020-11-24T23:07:37.833098Z",
     "start_time": "2020-11-24T23:07:30.291433Z"
    }
   },
   "outputs": [],
   "source": [
    "import pandas as pd\n",
    "from datetime import date\n",
    "import random"
   ]
  },
  {
   "cell_type": "code",
   "execution_count": 2,
   "metadata": {
    "ExecuteTime": {
     "end_time": "2020-11-24T23:07:38.369610Z",
     "start_time": "2020-11-24T23:07:37.836914Z"
    }
   },
   "outputs": [],
   "source": [
    "verbs = pd.read_excel(\"verbs.xlsx\")\n",
    "df = pd.read_excel(\"VerbBender.xlsx\")"
   ]
  },
  {
   "cell_type": "code",
   "execution_count": 3,
   "metadata": {
    "ExecuteTime": {
     "end_time": "2020-11-24T23:07:38.413819Z",
     "start_time": "2020-11-24T23:07:38.372807Z"
    }
   },
   "outputs": [
    {
     "data": {
      "text/html": [
       "<div>\n",
       "<style scoped>\n",
       "    .dataframe tbody tr th:only-of-type {\n",
       "        vertical-align: middle;\n",
       "    }\n",
       "\n",
       "    .dataframe tbody tr th {\n",
       "        vertical-align: top;\n",
       "    }\n",
       "\n",
       "    .dataframe thead th {\n",
       "        text-align: right;\n",
       "    }\n",
       "</style>\n",
       "<table border=\"1\" class=\"dataframe\">\n",
       "  <thead>\n",
       "    <tr style=\"text-align: right;\">\n",
       "      <th></th>\n",
       "      <th>English</th>\n",
       "      <th>Infinitive</th>\n",
       "      <th>Present tense</th>\n",
       "      <th>Past tense</th>\n",
       "      <th>Past participle</th>\n",
       "    </tr>\n",
       "  </thead>\n",
       "  <tbody>\n",
       "    <tr>\n",
       "      <th>0</th>\n",
       "      <td>act, shop, deal with</td>\n",
       "      <td>å handle</td>\n",
       "      <td>handler</td>\n",
       "      <td>handlet</td>\n",
       "      <td>har handlet</td>\n",
       "    </tr>\n",
       "    <tr>\n",
       "      <th>1</th>\n",
       "      <td>Adapt</td>\n",
       "      <td>å bearbeide</td>\n",
       "      <td>bearbeider</td>\n",
       "      <td>bearbeidet</td>\n",
       "      <td>bearbeidet</td>\n",
       "    </tr>\n",
       "    <tr>\n",
       "      <th>2</th>\n",
       "      <td>Aim</td>\n",
       "      <td>å sikte</td>\n",
       "      <td>sikter</td>\n",
       "      <td>siktet</td>\n",
       "      <td>siktet</td>\n",
       "    </tr>\n",
       "    <tr>\n",
       "      <th>3</th>\n",
       "      <td>Air</td>\n",
       "      <td>å lufte</td>\n",
       "      <td>lufter</td>\n",
       "      <td>luftet</td>\n",
       "      <td>luftet</td>\n",
       "    </tr>\n",
       "    <tr>\n",
       "      <th>4</th>\n",
       "      <td>allow, let</td>\n",
       "      <td>å la</td>\n",
       "      <td>lar</td>\n",
       "      <td>lot</td>\n",
       "      <td>har latt</td>\n",
       "    </tr>\n",
       "  </tbody>\n",
       "</table>\n",
       "</div>"
      ],
      "text/plain": [
       "                English   Infinitive Present tense  Past tense Past participle\n",
       "0  act, shop, deal with     å handle       handler    handlet     har handlet \n",
       "1                 Adapt  å bearbeide    bearbeider  bearbeidet      bearbeidet\n",
       "2                   Aim      å sikte        sikter      siktet          siktet\n",
       "3                   Air      å lufte        lufter      luftet          luftet\n",
       "4            allow, let         å la           lar         lot        har latt"
      ]
     },
     "execution_count": 3,
     "metadata": {},
     "output_type": "execute_result"
    }
   ],
   "source": [
    "verbs.head()"
   ]
  },
  {
   "cell_type": "code",
   "execution_count": 4,
   "metadata": {
    "ExecuteTime": {
     "end_time": "2020-11-24T23:07:38.431564Z",
     "start_time": "2020-11-24T23:07:38.417235Z"
    }
   },
   "outputs": [],
   "source": [
    "def VerbBender():\n",
    "    num = random.randrange(0, len(verbs))\n",
    "    tenses = ['Infinitive','Present tense','Past tense','Past participle']\n",
    "    print(verbs['English'][num])\n",
    "\n",
    "    counter = 0\n",
    "    atbilde = []\n",
    "    atbilde.append(date.today().strftime(\"%d/%m/%Y\"))\n",
    "    atbilde.append(verbs['English'][num])\n",
    "    for i in tenses:\n",
    "\n",
    "        print(i)\n",
    "        answer= input()\n",
    "        atbilde.append(answer)\n",
    "\n",
    "        if verbs[i][num] != answer:\n",
    "            print(verbs[i][num])\n",
    "            counter+= 1\n",
    "    print(\"You got \"+str((1 - counter/4)*100)+\"% correct\")\n",
    "    atbilde.append((1 - counter/4)*100)\n",
    "    df.loc[len(df)] = atbilde\n",
    "    df.to_excel(\"VerbBender.xlsx\", index = False)      "
   ]
  },
  {
   "cell_type": "code",
   "execution_count": 5,
   "metadata": {
    "ExecuteTime": {
     "end_time": "2020-11-24T23:08:19.222026Z",
     "start_time": "2020-11-24T23:07:38.435466Z"
    }
   },
   "outputs": [
    {
     "name": "stdout",
     "output_type": "stream",
     "text": [
      "Pass (as in exam)\n",
      "Infinitive\n",
      "å pass\n",
      "å bestå\n",
      "Present tense\n",
      "å består\n",
      "består\n",
      "Past tense\n",
      "bestør\n",
      "besto(d)\n",
      "Past participle\n",
      "bestodde\n",
      "bestått\n",
      "You got 0.0% correct\n"
     ]
    }
   ],
   "source": [
    "VerbBender()"
   ]
  },
  {
   "cell_type": "code",
   "execution_count": 7,
   "metadata": {
    "ExecuteTime": {
     "end_time": "2020-11-24T23:08:23.673662Z",
     "start_time": "2020-11-24T23:08:23.657070Z"
    }
   },
   "outputs": [
    {
     "data": {
      "text/html": [
       "<div>\n",
       "<style scoped>\n",
       "    .dataframe tbody tr th:only-of-type {\n",
       "        vertical-align: middle;\n",
       "    }\n",
       "\n",
       "    .dataframe tbody tr th {\n",
       "        vertical-align: top;\n",
       "    }\n",
       "\n",
       "    .dataframe thead th {\n",
       "        text-align: right;\n",
       "    }\n",
       "</style>\n",
       "<table border=\"1\" class=\"dataframe\">\n",
       "  <thead>\n",
       "    <tr style=\"text-align: right;\">\n",
       "      <th></th>\n",
       "      <th>Date</th>\n",
       "      <th>Verb</th>\n",
       "      <th>Infinitive</th>\n",
       "      <th>Present tense</th>\n",
       "      <th>Past tense</th>\n",
       "      <th>Past participle</th>\n",
       "      <th>Percent</th>\n",
       "    </tr>\n",
       "  </thead>\n",
       "  <tbody>\n",
       "    <tr>\n",
       "      <th>0</th>\n",
       "      <td>24/11/2020</td>\n",
       "      <td>Grill</td>\n",
       "      <td>å grille</td>\n",
       "      <td>griller</td>\n",
       "      <td>grillte¨</td>\n",
       "      <td>grillte</td>\n",
       "      <td>50.0</td>\n",
       "    </tr>\n",
       "    <tr>\n",
       "      <th>1</th>\n",
       "      <td>24/11/2020</td>\n",
       "      <td>Snow</td>\n",
       "      <td>å snø</td>\n",
       "      <td>snø</td>\n",
       "      <td>snørte</td>\n",
       "      <td>snødd</td>\n",
       "      <td>50.0</td>\n",
       "    </tr>\n",
       "    <tr>\n",
       "      <th>2</th>\n",
       "      <td>24/11/2020</td>\n",
       "      <td>help</td>\n",
       "      <td>å hjelpe</td>\n",
       "      <td>hjelper</td>\n",
       "      <td>hjelpte</td>\n",
       "      <td>hjalp</td>\n",
       "      <td>50.0</td>\n",
       "    </tr>\n",
       "    <tr>\n",
       "      <th>3</th>\n",
       "      <td>25/11/2020</td>\n",
       "      <td>Discuss</td>\n",
       "      <td>å diskuss</td>\n",
       "      <td>diskuterer</td>\n",
       "      <td>diskuterte</td>\n",
       "      <td>diskurteret</td>\n",
       "      <td>50.0</td>\n",
       "    </tr>\n",
       "    <tr>\n",
       "      <th>4</th>\n",
       "      <td>25/11/2020</td>\n",
       "      <td>Pass (as in exam)</td>\n",
       "      <td>å pass</td>\n",
       "      <td>å består</td>\n",
       "      <td>bestør</td>\n",
       "      <td>bestodde</td>\n",
       "      <td>0.0</td>\n",
       "    </tr>\n",
       "  </tbody>\n",
       "</table>\n",
       "</div>"
      ],
      "text/plain": [
       "         Date               Verb Infinitive Present tense  Past tense  \\\n",
       "0  24/11/2020              Grill   å grille       griller    grillte¨   \n",
       "1  24/11/2020               Snow      å snø           snø      snørte   \n",
       "2  24/11/2020               help   å hjelpe       hjelper     hjelpte   \n",
       "3  25/11/2020            Discuss  å diskuss    diskuterer  diskuterte   \n",
       "4  25/11/2020  Pass (as in exam)     å pass      å består      bestør   \n",
       "\n",
       "  Past participle  Percent  \n",
       "0         grillte     50.0  \n",
       "1           snødd     50.0  \n",
       "2           hjalp     50.0  \n",
       "3     diskurteret     50.0  \n",
       "4        bestodde      0.0  "
      ]
     },
     "execution_count": 7,
     "metadata": {},
     "output_type": "execute_result"
    }
   ],
   "source": [
    "df.tail()"
   ]
  },
  {
   "cell_type": "code",
   "execution_count": null,
   "metadata": {},
   "outputs": [],
   "source": []
  }
 ],
 "metadata": {
  "kernelspec": {
   "display_name": "Python 3",
   "language": "python",
   "name": "python3"
  },
  "language_info": {
   "codemirror_mode": {
    "name": "ipython",
    "version": 3
   },
   "file_extension": ".py",
   "mimetype": "text/x-python",
   "name": "python",
   "nbconvert_exporter": "python",
   "pygments_lexer": "ipython3",
   "version": "3.7.4"
  },
  "toc": {
   "base_numbering": 1,
   "nav_menu": {},
   "number_sections": true,
   "sideBar": true,
   "skip_h1_title": false,
   "title_cell": "Table of Contents",
   "title_sidebar": "Contents",
   "toc_cell": false,
   "toc_position": {},
   "toc_section_display": true,
   "toc_window_display": false
  }
 },
 "nbformat": 4,
 "nbformat_minor": 2
}
