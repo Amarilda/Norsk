{
 "cells": [
  {
   "cell_type": "code",
   "execution_count": 1,
   "metadata": {
    "ExecuteTime": {
     "end_time": "2020-11-22T14:16:52.382931Z",
     "start_time": "2020-11-22T14:16:44.989467Z"
    }
   },
   "outputs": [],
   "source": [
    "import pandas as pd"
   ]
  },
  {
   "cell_type": "code",
   "execution_count": 2,
   "metadata": {
    "ExecuteTime": {
     "end_time": "2020-11-22T14:16:52.914838Z",
     "start_time": "2020-11-22T14:16:52.387737Z"
    }
   },
   "outputs": [],
   "source": [
    "verbs = pd.read_excel(\"verbs.xlsx\")"
   ]
  },
  {
   "cell_type": "code",
   "execution_count": 3,
   "metadata": {
    "ExecuteTime": {
     "end_time": "2020-11-22T14:16:52.952806Z",
     "start_time": "2020-11-22T14:16:52.918458Z"
    }
   },
   "outputs": [
    {
     "data": {
      "text/html": [
       "<div>\n",
       "<style scoped>\n",
       "    .dataframe tbody tr th:only-of-type {\n",
       "        vertical-align: middle;\n",
       "    }\n",
       "\n",
       "    .dataframe tbody tr th {\n",
       "        vertical-align: top;\n",
       "    }\n",
       "\n",
       "    .dataframe thead th {\n",
       "        text-align: right;\n",
       "    }\n",
       "</style>\n",
       "<table border=\"1\" class=\"dataframe\">\n",
       "  <thead>\n",
       "    <tr style=\"text-align: right;\">\n",
       "      <th></th>\n",
       "      <th>English</th>\n",
       "      <th>Infinitive</th>\n",
       "      <th>Present tense</th>\n",
       "      <th>Past tense</th>\n",
       "      <th>Past participle</th>\n",
       "    </tr>\n",
       "  </thead>\n",
       "  <tbody>\n",
       "    <tr>\n",
       "      <th>0</th>\n",
       "      <td>act, shop, deal with</td>\n",
       "      <td>å handle</td>\n",
       "      <td>handler</td>\n",
       "      <td>handlet</td>\n",
       "      <td>har handlet</td>\n",
       "    </tr>\n",
       "    <tr>\n",
       "      <th>1</th>\n",
       "      <td>Adapt</td>\n",
       "      <td>å bearbeide</td>\n",
       "      <td>bearbeider</td>\n",
       "      <td>bearbeidet</td>\n",
       "      <td>bearbeidet</td>\n",
       "    </tr>\n",
       "    <tr>\n",
       "      <th>2</th>\n",
       "      <td>Aim</td>\n",
       "      <td>å sikte</td>\n",
       "      <td>sikter</td>\n",
       "      <td>siktet</td>\n",
       "      <td>siktet</td>\n",
       "    </tr>\n",
       "    <tr>\n",
       "      <th>3</th>\n",
       "      <td>Air</td>\n",
       "      <td>å lufte</td>\n",
       "      <td>lufter</td>\n",
       "      <td>luftet</td>\n",
       "      <td>luftet</td>\n",
       "    </tr>\n",
       "    <tr>\n",
       "      <th>4</th>\n",
       "      <td>allow, let</td>\n",
       "      <td>å la</td>\n",
       "      <td>lar</td>\n",
       "      <td>lot</td>\n",
       "      <td>har latt</td>\n",
       "    </tr>\n",
       "  </tbody>\n",
       "</table>\n",
       "</div>"
      ],
      "text/plain": [
       "                English   Infinitive Present tense  Past tense Past participle\n",
       "0  act, shop, deal with     å handle       handler    handlet     har handlet \n",
       "1                 Adapt  å bearbeide    bearbeider  bearbeidet      bearbeidet\n",
       "2                   Aim      å sikte        sikter      siktet          siktet\n",
       "3                   Air      å lufte        lufter      luftet          luftet\n",
       "4            allow, let         å la           lar         lot        har latt"
      ]
     },
     "execution_count": 3,
     "metadata": {},
     "output_type": "execute_result"
    }
   ],
   "source": [
    "verbs.head()"
   ]
  },
  {
   "cell_type": "code",
   "execution_count": 4,
   "metadata": {
    "ExecuteTime": {
     "end_time": "2020-11-22T14:16:52.968194Z",
     "start_time": "2020-11-22T14:16:52.956983Z"
    }
   },
   "outputs": [
    {
     "name": "stdout",
     "output_type": "stream",
     "text": [
      "Need\n"
     ]
    }
   ],
   "source": [
    "import random\n",
    "\n",
    "num = random.randrange(0, len(verbs))\n",
    "\n",
    "print(verbs['English'][num])"
   ]
  },
  {
   "cell_type": "code",
   "execution_count": 5,
   "metadata": {
    "ExecuteTime": {
     "end_time": "2020-11-22T14:18:21.767112Z",
     "start_time": "2020-11-22T14:16:52.972631Z"
    }
   },
   "outputs": [
    {
     "name": "stdout",
     "output_type": "stream",
     "text": [
      "Need\n",
      "Infinitive\n",
      "å trenge\n",
      "Present tense\n",
      "trenger\n",
      "Past tense\n",
      "trengte\n",
      "Past participle\n",
      "har trenget\n",
      "trengt\n",
      "You got 75.0% correct\n"
     ]
    }
   ],
   "source": [
    "tenses = ['Infinitive','Present tense','Past tense','Past participle']\n",
    "print(verbs['English'][num])\n",
    "\n",
    "counter = 0\n",
    "for i in tenses:\n",
    "    \n",
    "    print(i)\n",
    "    answer= input()\n",
    "    \n",
    "    if verbs[i][num] != answer:\n",
    "        print(verbs[i][num])\n",
    "        counter+= 1\n",
    "print(\"You got \"+str((1 - counter/4.)*100)+\"% correct\")"
   ]
  }
 ],
 "metadata": {
  "kernelspec": {
   "display_name": "Python 3",
   "language": "python",
   "name": "python3"
  },
  "language_info": {
   "codemirror_mode": {
    "name": "ipython",
    "version": 3
   },
   "file_extension": ".py",
   "mimetype": "text/x-python",
   "name": "python",
   "nbconvert_exporter": "python",
   "pygments_lexer": "ipython3",
   "version": "3.7.4"
  },
  "toc": {
   "base_numbering": 1,
   "nav_menu": {},
   "number_sections": true,
   "sideBar": true,
   "skip_h1_title": false,
   "title_cell": "Table of Contents",
   "title_sidebar": "Contents",
   "toc_cell": false,
   "toc_position": {},
   "toc_section_display": true,
   "toc_window_display": false
  }
 },
 "nbformat": 4,
 "nbformat_minor": 2
}
