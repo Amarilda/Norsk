{
 "cells": [
  {
   "cell_type": "code",
   "execution_count": null,
   "metadata": {
    "ExecuteTime": {
     "end_time": "2021-01-23T14:10:57.896344Z",
     "start_time": "2021-01-23T14:10:51.132239Z"
    },
    "hide_input": true
   },
   "outputs": [],
   "source": [
    "import pandas as pd\n",
    "from fuzzywuzzy import fuzz\n",
    "from fuzzywuzzy import process\n",
    "from datetime import datetime\n",
    "import random\n",
    "import datetime"
   ]
  },
  {
   "cell_type": "markdown",
   "metadata": {},
   "source": [
    "https://www.datacamp.com/community/tutorials/fuzzy-string-python\n",
    "https://stackabuse.com/levenshtein-distance-and-text-similarity-in-python/"
   ]
  },
  {
   "cell_type": "code",
   "execution_count": null,
   "metadata": {
    "ExecuteTime": {
     "end_time": "2021-01-13T15:25:10.613371Z",
     "start_time": "2021-01-13T15:25:10.138491Z"
    }
   },
   "outputs": [],
   "source": [
    "#Read all sheeets\n",
    "df= pd.read_excel(\"babbel2.xlsx\", sheet_name = None)\n",
    "\n",
    "df1 = df['vocab']\n",
    "df2 = df['REPP']"
   ]
  },
  {
   "cell_type": "code",
   "execution_count": null,
   "metadata": {
    "ExecuteTime": {
     "end_time": "2021-01-13T15:07:32.053628Z",
     "start_time": "2021-01-13T15:07:32.039261Z"
    },
    "hide_input": true
   },
   "outputs": [],
   "source": [
    "df.keys()"
   ]
  },
  {
   "cell_type": "code",
   "execution_count": null,
   "metadata": {
    "ExecuteTime": {
     "end_time": "2021-01-13T14:59:06.468080Z",
     "start_time": "2021-01-13T14:59:06.451184Z"
    }
   },
   "outputs": [],
   "source": [
    "df.values()"
   ]
  },
  {
   "cell_type": "code",
   "execution_count": null,
   "metadata": {
    "ExecuteTime": {
     "end_time": "2021-01-13T15:07:32.107414Z",
     "start_time": "2021-01-13T15:07:32.057140Z"
    },
    "hide_input": true
   },
   "outputs": [],
   "source": [
    "df['REPP']"
   ]
  },
  {
   "cell_type": "code",
   "execution_count": null,
   "metadata": {
    "ExecuteTime": {
     "end_time": "2021-01-23T14:10:57.915331Z",
     "start_time": "2021-01-23T14:10:57.899529Z"
    },
    "hide_input": true
   },
   "outputs": [],
   "source": [
    "str2Match = \"\"\n",
    "strOptions = [\"Apple Inc.\",\"apple park\",\"apple incorporated\",\"iphone\"]\n",
    "Ratios = process.extract(str2Match,strOptions)\n",
    "print(Ratios)\n",
    "# You can also select the string with the highest matching percentage\n",
    "highest = process.extractOne(str2Match,strOptions)\n",
    "print(highest)"
   ]
  },
  {
   "cell_type": "code",
   "execution_count": null,
   "metadata": {
    "ExecuteTime": {
     "end_time": "2021-01-23T14:11:18.668023Z",
     "start_time": "2021-01-23T14:11:18.560839Z"
    }
   },
   "outputs": [],
   "source": [
    "for i in df['NORWEGIAN'].unique():\n",
    "    Ratios = process.extract(i,df.NORWEGIAN, limit = 10)\n",
    "    print(i, Ratios)"
   ]
  },
  {
   "cell_type": "code",
   "execution_count": null,
   "metadata": {
    "ExecuteTime": {
     "end_time": "2021-01-13T13:37:53.529559Z",
     "start_time": "2021-01-13T13:37:53.519500Z"
    }
   },
   "outputs": [],
   "source": [
    "from fuzzywuzzy import fuzz\n",
    "Str1 = \"abonnere\"\n",
    "Str2 = \"abonnerte\"\n",
    "Ratio = fuzz.ratio(Str1.lower(),Str2.lower())\n",
    "Partial_Ratio = fuzz.partial_ratio(Str1.lower(),Str2.lower())\n",
    "Token_Sort_Ratio = fuzz.token_sort_ratio(Str1,Str2)\n",
    "Token_Set_Ratio = fuzz.token_set_ratio(Str1,Str2)"
   ]
  },
  {
   "cell_type": "code",
   "execution_count": null,
   "metadata": {
    "ExecuteTime": {
     "end_time": "2021-01-13T13:37:53.923218Z",
     "start_time": "2021-01-13T13:37:53.916548Z"
    }
   },
   "outputs": [],
   "source": [
    "print(Ratio)\n",
    "print(Partial_Ratio)\n",
    "print(Token_Sort_Ratio)\n",
    "print(Token_Set_Ratio)"
   ]
  },
  {
   "cell_type": "code",
   "execution_count": null,
   "metadata": {
    "ExecuteTime": {
     "end_time": "2021-01-13T15:27:09.098518Z",
     "start_time": "2021-01-13T15:27:09.087366Z"
    },
    "hide_input": true
   },
   "outputs": [],
   "source": [
    "def NOK(i):\n",
    "    Ratios = process.extract(i,df1.NORWEGIAN, limit = 5)\n",
    "    print(i, Ratios)\n",
    "    print()\n",
    "    atbilde = []\n",
    "    found = \"\"\n",
    "    if Ratios[0][1] != 100:\n",
    "        enter = input(\"Does this need to be entered?\").lower()\n",
    "        if enter == \"y\":\n",
    "            meaning = input(\"What is english transaltion of this word?\")\n",
    "            where = input(\"Where does this word come from?\")\n",
    "            atbilde.extend([i, meaning,where,datetime.datetime.now()])\n",
    "            df1.loc[len(df1)] = atbilde\n",
    "            \n",
    "            with pd.ExcelWriter('Babbel2.xlsx',  engine='openpyxl') as writer:  \n",
    "                df1.to_excel(writer, sheet_name='vocab', index = False)\n",
    "            print(f'{i} has been added to the Edites Corpus')\n",
    "        \n",
    "    \n",
    "        elif enter == \"n\":\n",
    "            while found not in df2.NORWEGIAN.values:\n",
    "                found = input(\"Which word is it?\")\n",
    "        print()\n",
    "        #print(df[df.NORWEGIAN == found][1])\n",
    "        #print(df[df.NORWEGIAN == found][2])\n",
    "        \n",
    "        #atbilde.extend([i, meaning,where,datetime.datetime.now()])\n",
    "            \n",
    "    else:\n",
    "        #atbilde.extend([i, meaning,where,datetime.datetime.now()])\n",
    "        where = input(\"Where does this word come from?\")\n",
    "        print(i, where, datetime.datetime.now())\n"
   ]
  },
  {
   "cell_type": "code",
   "execution_count": null,
   "metadata": {
    "ExecuteTime": {
     "end_time": "2021-01-13T15:27:46.336001Z",
     "start_time": "2021-01-13T15:27:20.652750Z"
    },
    "hide_input": true
   },
   "outputs": [],
   "source": [
    "NOK(\"Kenn\")"
   ]
  }
 ],
 "metadata": {
  "kernelspec": {
   "display_name": "Python 3",
   "language": "python",
   "name": "python3"
  },
  "language_info": {
   "codemirror_mode": {
    "name": "ipython",
    "version": 3
   },
   "file_extension": ".py",
   "mimetype": "text/x-python",
   "name": "python",
   "nbconvert_exporter": "python",
   "pygments_lexer": "ipython3",
   "version": "3.7.4"
  },
  "toc": {
   "base_numbering": 1,
   "nav_menu": {},
   "number_sections": true,
   "sideBar": true,
   "skip_h1_title": false,
   "title_cell": "Table of Contents",
   "title_sidebar": "Contents",
   "toc_cell": false,
   "toc_position": {},
   "toc_section_display": true,
   "toc_window_display": false
  }
 },
 "nbformat": 4,
 "nbformat_minor": 2
}
