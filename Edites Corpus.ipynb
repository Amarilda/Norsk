{
 "cells": [
  {
   "cell_type": "code",
   "execution_count": null,
   "metadata": {
    "ExecuteTime": {
     "end_time": "2021-01-23T14:10:57.896344Z",
     "start_time": "2021-01-23T14:10:51.132239Z"
    },
    "hide_input": true
   },
   "outputs": [],
   "source": [
    "import pandas as pd\n",
    "from fuzzywuzzy import fuzz\n",
    "from fuzzywuzzy import process\n",
    "from datetime import datetime\n",
    "import random\n",
    "import datetime"
   ]
  },
  {
   "cell_type": "markdown",
   "metadata": {},
   "source": [
    "https://www.datacamp.com/community/tutorials/fuzzy-string-python\n",
    "https://stackabuse.com/levenshtein-distance-and-text-similarity-in-python/"
   ]
  },
  {
   "cell_type": "code",
   "execution_count": null,
   "metadata": {
    "ExecuteTime": {
     "end_time": "2021-01-13T15:25:10.613371Z",
     "start_time": "2021-01-13T15:25:10.138491Z"
    }
   },
   "outputs": [],
   "source": [
    "#Read all sheeets\n",
    "df= pd.read_excel(\"babbel2.xlsx\", sheet_name = None)\n",
    "\n",
    "df1 = df['vocab']\n",
    "df2 = df['REPP']"
   ]
  },
  {
   "cell_type": "code",
   "execution_count": null,
   "metadata": {
    "ExecuteTime": {
     "end_time": "2021-01-13T15:07:32.053628Z",
     "start_time": "2021-01-13T15:07:32.039261Z"
    },
    "hide_input": true
   },
   "outputs": [],
   "source": [
    "df.keys()"
   ]
  },
  {
   "cell_type": "code",
   "execution_count": null,
   "metadata": {
    "ExecuteTime": {
     "end_time": "2021-01-13T14:59:06.468080Z",
     "start_time": "2021-01-13T14:59:06.451184Z"
    }
   },
   "outputs": [],
   "source": [
    "df.values()"
   ]
  },
  {
   "cell_type": "code",
   "execution_count": null,
   "metadata": {
    "ExecuteTime": {
     "end_time": "2021-01-13T15:07:32.107414Z",
     "start_time": "2021-01-13T15:07:32.057140Z"
    },
    "hide_input": true
   },
   "outputs": [],
   "source": [
    "df['REPP']"
   ]
  },
  {
   "cell_type": "code",
   "execution_count": null,
   "metadata": {
    "ExecuteTime": {
     "end_time": "2021-01-23T14:10:57.915331Z",
     "start_time": "2021-01-23T14:10:57.899529Z"
    },
    "hide_input": true
   },
   "outputs": [],
   "source": [
    "str2Match = \"\"\n",
    "strOptions = [\"Apple Inc.\",\"apple park\",\"apple incorporated\",\"iphone\"]\n",
    "Ratios = process.extract(str2Match,strOptions)\n",
    "print(Ratios)\n",
    "# You can also select the string with the highest matching percentage\n",
    "highest = process.extractOne(str2Match,strOptions)\n",
    "print(highest)"
   ]
  },
  {
   "cell_type": "code",
   "execution_count": null,
   "metadata": {
    "ExecuteTime": {
     "end_time": "2021-01-23T14:11:18.668023Z",
     "start_time": "2021-01-23T14:11:18.560839Z"
    }
   },
   "outputs": [],
   "source": [
    "for i in df['NORWEGIAN'].unique():\n",
    "    Ratios = process.extract(i,df.NORWEGIAN, limit = 10)\n",
    "    print(i, Ratios)"
   ]
  },
  {
   "cell_type": "code",
   "execution_count": null,
   "metadata": {
    "ExecuteTime": {
     "end_time": "2021-01-13T13:37:53.529559Z",
     "start_time": "2021-01-13T13:37:53.519500Z"
    }
   },
   "outputs": [],
   "source": [
    "from fuzzywuzzy import fuzz\n",
    "Str1 = \"abonnere\"\n",
    "Str2 = \"abonnerte\"\n",
    "Ratio = fuzz.ratio(Str1.lower(),Str2.lower())\n",
    "Partial_Ratio = fuzz.partial_ratio(Str1.lower(),Str2.lower())\n",
    "Token_Sort_Ratio = fuzz.token_sort_ratio(Str1,Str2)\n",
    "Token_Set_Ratio = fuzz.token_set_ratio(Str1,Str2)"
   ]
  },
  {
   "cell_type": "code",
   "execution_count": null,
   "metadata": {
    "ExecuteTime": {
     "end_time": "2021-01-13T13:37:53.923218Z",
     "start_time": "2021-01-13T13:37:53.916548Z"
    }
   },
   "outputs": [],
   "source": [
    "print(Ratio)\n",
    "print(Partial_Ratio)\n",
    "print(Token_Sort_Ratio)\n",
    "print(Token_Set_Ratio)"
   ]
  },
  {
   "cell_type": "code",
   "execution_count": null,
   "metadata": {
    "ExecuteTime": {
     "end_time": "2021-02-21T17:13:18.411612Z",
     "start_time": "2021-02-21T17:13:10.227931Z"
    }
   },
   "outputs": [],
   "source": [
    "import pandas as pd"
   ]
  },
  {
   "cell_type": "code",
   "execution_count": 1,
   "metadata": {
    "ExecuteTime": {
     "end_time": "2021-02-24T13:46:27.722279Z",
     "start_time": "2021-02-24T13:46:09.228576Z"
    }
   },
   "outputs": [],
   "source": [
    "import tabula\n",
    "from tabula import read_pdf\n",
    "pdf_path = \"/Users/Edite/NorwegianVocabulary.pdf\""
   ]
  },
  {
   "cell_type": "code",
   "execution_count": 2,
   "metadata": {
    "ExecuteTime": {
     "end_time": "2021-02-24T13:46:28.027845Z",
     "start_time": "2021-02-24T13:46:27.725574Z"
    }
   },
   "outputs": [
    {
     "name": "stderr",
     "output_type": "stream",
     "text": [
      "PdfReadWarning: Xref table not zero-indexed. ID numbers for objects will be corrected. [pdf.py:1736]\n"
     ]
    },
    {
     "data": {
      "text/plain": [
       "'Andrey Taranov'"
      ]
     },
     "execution_count": 2,
     "metadata": {},
     "output_type": "execute_result"
    }
   ],
   "source": [
    "from PyPDF2 import PdfFileReader\n",
    "inputPdf = PdfFileReader(open(\"/Users/Edite/NorwegianVocabulary.pdf\", \"rb\"))\n",
    "docInfo = inputPdf.getDocumentInfo()\n",
    "docInfo.author"
   ]
  },
  {
   "cell_type": "code",
   "execution_count": null,
   "metadata": {
    "ExecuteTime": {
     "end_time": "2021-02-21T18:00:59.947712Z",
     "start_time": "2021-02-21T18:00:59.939492Z"
    }
   },
   "outputs": [],
   "source": [
    "docInfo.creator"
   ]
  },
  {
   "cell_type": "code",
   "execution_count": null,
   "metadata": {
    "ExecuteTime": {
     "end_time": "2021-02-21T18:01:02.385617Z",
     "start_time": "2021-02-21T18:01:02.378119Z"
    }
   },
   "outputs": [],
   "source": [
    "docInfo.producer"
   ]
  },
  {
   "cell_type": "code",
   "execution_count": null,
   "metadata": {
    "ExecuteTime": {
     "end_time": "2021-02-21T18:01:07.841833Z",
     "start_time": "2021-02-21T18:01:07.833466Z"
    }
   },
   "outputs": [],
   "source": [
    "docInfo.title"
   ]
  },
  {
   "cell_type": "code",
   "execution_count": null,
   "metadata": {
    "ExecuteTime": {
     "end_time": "2021-02-21T18:01:11.937836Z",
     "start_time": "2021-02-21T18:01:11.929470Z"
    }
   },
   "outputs": [],
   "source": [
    "docInfo.subject"
   ]
  },
  {
   "cell_type": "code",
   "execution_count": null,
   "metadata": {
    "ExecuteTime": {
     "end_time": "2021-02-21T18:01:27.881898Z",
     "start_time": "2021-02-21T18:01:27.634727Z"
    }
   },
   "outputs": [],
   "source": [
    "inputPdf.getNumPages()"
   ]
  },
  {
   "cell_type": "code",
   "execution_count": null,
   "metadata": {
    "ExecuteTime": {
     "end_time": "2021-02-21T17:51:23.546578Z",
     "start_time": "2021-02-21T17:51:23.497866Z"
    }
   },
   "outputs": [],
   "source": [
    "inputPdf.getPage(10).extractText()"
   ]
  },
  {
   "cell_type": "code",
   "execution_count": 3,
   "metadata": {
    "ExecuteTime": {
     "end_time": "2021-02-23T15:34:27.244978Z",
     "start_time": "2021-02-23T15:34:27.139757Z"
    }
   },
   "outputs": [
    {
     "data": {
      "text/plain": [
       "['chocolate', 'steak', 'avocado', 'koffee']"
      ]
     },
     "execution_count": 3,
     "metadata": {},
     "output_type": "execute_result"
    }
   ],
   "source": [
    "from foods import foods\n",
    "foods"
   ]
  },
  {
   "cell_type": "code",
   "execution_count": 52,
   "metadata": {
    "ExecuteTime": {
     "end_time": "2021-02-23T16:32:59.233136Z",
     "start_time": "2021-02-23T16:32:59.227904Z"
    }
   },
   "outputs": [],
   "source": [
    "import random\n",
    "import string"
   ]
  },
  {
   "cell_type": "code",
   "execution_count": 26,
   "metadata": {
    "ExecuteTime": {
     "end_time": "2021-02-23T16:22:41.377311Z",
     "start_time": "2021-02-23T16:22:41.369794Z"
    }
   },
   "outputs": [
    {
     "name": "stdout",
     "output_type": "stream",
     "text": [
      "!\"#$%&'()*+,-./:;<=>?@[\\]^_`{|}~\n"
     ]
    }
   ],
   "source": [
    "print(string.punctuation)"
   ]
  },
  {
   "cell_type": "code",
   "execution_count": 46,
   "metadata": {
    "ExecuteTime": {
     "end_time": "2021-02-23T16:31:45.484121Z",
     "start_time": "2021-02-23T16:31:45.469933Z"
    }
   },
   "outputs": [],
   "source": [
    "def get_valid_word(foods):\n",
    "    word = random.choice(foods)\n",
    "    while '-' in word or ' ' in word:\n",
    "        word = random.choice(foods)\n",
    "    return word.upper()"
   ]
  },
  {
   "cell_type": "code",
   "execution_count": 61,
   "metadata": {
    "ExecuteTime": {
     "end_time": "2021-02-24T08:48:51.429012Z",
     "start_time": "2021-02-24T08:48:35.931477Z"
    }
   },
   "outputs": [
    {
     "name": "stdout",
     "output_type": "stream",
     "text": [
      "You have used these leters: \n",
      "Current word:  -------\n",
      "Type something:A\n",
      "\n",
      "You have used these leters: A\n",
      "Current word:  A---A--\n",
      "Type something:V\n",
      "\n",
      "You have used these leters: V A\n",
      "Current word:  AV--A--\n",
      "Type something:O\n",
      "\n",
      "You have used these leters: V A O\n",
      "Current word:  AVO-A-O\n",
      "Type something:C\n",
      "\n",
      "You have used these leters: V A C O\n",
      "Current word:  AVOCA-O\n",
      "Type something:D\n",
      "\n"
     ]
    }
   ],
   "source": [
    "def hangman():\n",
    "    word = get_valid_word(foods)\n",
    "    word_letters = set(word)\n",
    "    alphabet = set(string.ascii_uppercase)\n",
    "    used_letters = set() \n",
    "    \n",
    "    while len(word_letters)>0:\n",
    "        print('You have used these leters:', ' '.join(used_letters))\n",
    "        word_list = [letter if letter in used_letters else '-' for letter in word]\n",
    "        \n",
    "        print('Current word: ', ''.join(word_list))\n",
    "        user_letter = input('Type something:').upper()\n",
    "        if user_letter in alphabet - used_letters:\n",
    "            used_letters.add(user_letter)\n",
    "            if user_letter in word_letters:\n",
    "                word_letters.remove(user_letter)\n",
    "                print('')\n",
    "        elif user_letter in used_letters:\n",
    "            print('You have already used that character. Please try again.')\n",
    "\n",
    "        else:\n",
    "            print('Invalid character. Please try again')\n",
    "            \n",
    "            \n",
    "if __name__ == '__main__':\n",
    "    hangman()"
   ]
  },
  {
   "cell_type": "code",
   "execution_count": 70,
   "metadata": {
    "ExecuteTime": {
     "end_time": "2021-03-02T14:34:12.768298Z",
     "start_time": "2021-03-02T14:34:12.760247Z"
    }
   },
   "outputs": [],
   "source": [
    "import pandas as pd\n",
    "df = pd.DataFrame(columns =['engelsk','norsk'])"
   ]
  },
  {
   "cell_type": "code",
   "execution_count": 71,
   "metadata": {
    "ExecuteTime": {
     "end_time": "2021-03-02T14:34:15.449639Z",
     "start_time": "2021-03-02T14:34:13.366528Z"
    }
   },
   "outputs": [],
   "source": [
    "import csv\n",
    "with open('NorwegianVocubulary.txt', 'r') as fd: \n",
    "    reader = csv.reader(fd)\n",
    "    for row in reader:\n",
    "        if 'adj' in str(row):\n",
    "            norskI =[]\n",
    "            #English\n",
    "            engelsk = str(row)[2:str(row).find('(')-1]\n",
    "            norskI.append(engelsk)\n",
    "            #Norsk\n",
    "            norsk = str(row)[str(row).find('-')+2:][0:str(row)[str(row).find('-'):].find('[')-3]\n",
    "            norskI.append(norsk)\n",
    "            if len(df[df.engelsk == norskI[0]])<1 or len(df[df.norsk == norskI[1]])<1:\n",
    "                df.loc[len(df)] = norskI\n",
    "                \n",
    "            else:\n",
    "                norskI =[]\n",
    "    #norskI = ','.join(norskI)\n",
    "    #print(norskI)"
   ]
  },
  {
   "cell_type": "code",
   "execution_count": 72,
   "metadata": {
    "ExecuteTime": {
     "end_time": "2021-03-02T14:34:15.490507Z",
     "start_time": "2021-03-02T14:34:15.453139Z"
    }
   },
   "outputs": [
    {
     "data": {
      "text/html": [
       "<div>\n",
       "<style scoped>\n",
       "    .dataframe tbody tr th:only-of-type {\n",
       "        vertical-align: middle;\n",
       "    }\n",
       "\n",
       "    .dataframe tbody tr th {\n",
       "        vertical-align: top;\n",
       "    }\n",
       "\n",
       "    .dataframe thead th {\n",
       "        text-align: right;\n",
       "    }\n",
       "</style>\n",
       "<table border=\"1\" class=\"dataframe\">\n",
       "  <thead>\n",
       "    <tr style=\"text-align: right;\">\n",
       "      <th></th>\n",
       "      <th>engelsk</th>\n",
       "      <th>norsk</th>\n",
       "    </tr>\n",
       "  </thead>\n",
       "  <tbody>\n",
       "    <tr>\n",
       "      <th>492</th>\n",
       "      <td>the same', ' equal</td>\n",
       "      <td>samme', \" lik</td>\n",
       "    </tr>\n",
       "    <tr>\n",
       "      <th>493</th>\n",
       "      <td>tiring</td>\n",
       "      <td>trøttende</td>\n",
       "    </tr>\n",
       "    <tr>\n",
       "      <th>494</th>\n",
       "      <td>transparent</td>\n",
       "      <td>transparent</td>\n",
       "    </tr>\n",
       "    <tr>\n",
       "      <th>495</th>\n",
       "      <td>unclear</td>\n",
       "      <td>uklar</td>\n",
       "    </tr>\n",
       "    <tr>\n",
       "      <th>496</th>\n",
       "      <td>various</td>\n",
       "      <td>forskjellig</td>\n",
       "    </tr>\n",
       "  </tbody>\n",
       "</table>\n",
       "</div>"
      ],
      "text/plain": [
       "                engelsk          norsk\n",
       "492  the same', ' equal  samme', \" lik\n",
       "493              tiring      trøttende\n",
       "494         transparent    transparent\n",
       "495             unclear          uklar\n",
       "496             various    forskjellig"
      ]
     },
     "execution_count": 72,
     "metadata": {},
     "output_type": "execute_result"
    }
   ],
   "source": [
    "df.tail()"
   ]
  },
  {
   "cell_type": "code",
   "execution_count": 174,
   "metadata": {
    "ExecuteTime": {
     "end_time": "2021-02-27T09:40:10.148189Z",
     "start_time": "2021-02-27T09:40:10.134150Z"
    }
   },
   "outputs": [
    {
     "data": {
      "text/plain": [
       "gammel              2\n",
       "billig              2\n",
       "utmerket            2\n",
       "stille              2\n",
       "fiendtlig           2\n",
       "                   ..\n",
       "kunstig             1\n",
       "amerikansk          1\n",
       "stor                1\n",
       "beruset', \" full    1\n",
       "sentral             1\n",
       "Name: norsk, Length: 488, dtype: int64"
      ]
     },
     "execution_count": 174,
     "metadata": {},
     "output_type": "execute_result"
    }
   ],
   "source": [
    "df.norsk.value_counts()"
   ]
  },
  {
   "cell_type": "code",
   "execution_count": 171,
   "metadata": {
    "ExecuteTime": {
     "end_time": "2021-02-27T09:39:39.747771Z",
     "start_time": "2021-02-27T09:39:39.735449Z"
    }
   },
   "outputs": [
    {
     "data": {
      "text/plain": [
       "leather        2\n",
       "foreign        2\n",
       "short          2\n",
       "standard       2\n",
       "hot            2\n",
       "              ..\n",
       "left           1\n",
       "nervous        1\n",
       "magnificent    1\n",
       "Liberal        1\n",
       "approximate    1\n",
       "Name: engelsk, Length: 492, dtype: int64"
      ]
     },
     "execution_count": 171,
     "metadata": {},
     "output_type": "execute_result"
    }
   ],
   "source": [
    "df.engelsk.value_counts()"
   ]
  },
  {
   "cell_type": "code",
   "execution_count": 173,
   "metadata": {
    "ExecuteTime": {
     "end_time": "2021-02-27T09:39:57.345831Z",
     "start_time": "2021-02-27T09:39:57.328263Z"
    }
   },
   "outputs": [
    {
     "data": {
      "text/html": [
       "<div>\n",
       "<style scoped>\n",
       "    .dataframe tbody tr th:only-of-type {\n",
       "        vertical-align: middle;\n",
       "    }\n",
       "\n",
       "    .dataframe tbody tr th {\n",
       "        vertical-align: top;\n",
       "    }\n",
       "\n",
       "    .dataframe thead th {\n",
       "        text-align: right;\n",
       "    }\n",
       "</style>\n",
       "<table border=\"1\" class=\"dataframe\">\n",
       "  <thead>\n",
       "    <tr style=\"text-align: right;\">\n",
       "      <th></th>\n",
       "      <th>engelsk</th>\n",
       "      <th>norsk</th>\n",
       "    </tr>\n",
       "  </thead>\n",
       "  <tbody>\n",
       "    <tr>\n",
       "      <th>65</th>\n",
       "      <td>short</td>\n",
       "      <td>kort</td>\n",
       "    </tr>\n",
       "    <tr>\n",
       "      <th>151</th>\n",
       "      <td>short</td>\n",
       "      <td>liten av vekst</td>\n",
       "    </tr>\n",
       "  </tbody>\n",
       "</table>\n",
       "</div>"
      ],
      "text/plain": [
       "    engelsk           norsk\n",
       "65    short            kort\n",
       "151   short  liten av vekst"
      ]
     },
     "execution_count": 173,
     "metadata": {},
     "output_type": "execute_result"
    }
   ],
   "source": [
    "df[df.engelsk ==\"short\"]"
   ]
  },
  {
   "cell_type": "code",
   "execution_count": 168,
   "metadata": {
    "ExecuteTime": {
     "end_time": "2021-02-27T09:38:52.177386Z",
     "start_time": "2021-02-27T09:38:52.163406Z"
    }
   },
   "outputs": [
    {
     "data": {
      "text/plain": [
       "31"
      ]
     },
     "execution_count": 168,
     "metadata": {},
     "output_type": "execute_result"
    }
   ],
   "source": [
    "len(df.norsk[df.norsk.str.contains(',')])"
   ]
  },
  {
   "cell_type": "code",
   "execution_count": 169,
   "metadata": {
    "ExecuteTime": {
     "end_time": "2021-02-27T09:38:57.616647Z",
     "start_time": "2021-02-27T09:38:57.603807Z"
    }
   },
   "outputs": [
    {
     "data": {
      "text/plain": [
       "26"
      ]
     },
     "execution_count": 169,
     "metadata": {},
     "output_type": "execute_result"
    }
   ],
   "source": [
    "len(df.engelsk[df.engelsk.str.contains(',')])"
   ]
  },
  {
   "cell_type": "markdown",
   "metadata": {},
   "source": [
    "## List all tables"
   ]
  },
  {
   "cell_type": "code",
   "execution_count": 36,
   "metadata": {
    "ExecuteTime": {
     "end_time": "2021-03-02T14:28:42.427112Z",
     "start_time": "2021-03-02T14:28:42.418391Z"
    }
   },
   "outputs": [
    {
     "name": "stdout",
     "output_type": "stream",
     "text": [
      "[('verbs',), ('VerbBender',), ('IG',)]\n"
     ]
    }
   ],
   "source": [
    "import sqlite3\n",
    "con = sqlite3.connect('norsk.db')\n",
    "cursor = con.cursor()\n",
    "cursor.execute(\"SELECT name FROM sqlite_master WHERE type='table';\")\n",
    "print(cursor.fetchall())"
   ]
  },
  {
   "cell_type": "code",
   "execution_count": 73,
   "metadata": {
    "ExecuteTime": {
     "end_time": "2021-03-02T14:36:02.007379Z",
     "start_time": "2021-03-02T14:36:01.835246Z"
    }
   },
   "outputs": [],
   "source": [
    "conn = sqlite3.connect('norsk.db')\n",
    "cursor = con.cursor()\n",
    "df.to_sql(\"IG\", conn, if_exists='append', index = False)\n",
    "conn.commit()\n",
    "#conn.close()"
   ]
  },
  {
   "cell_type": "code",
   "execution_count": 75,
   "metadata": {
    "ExecuteTime": {
     "end_time": "2021-03-02T14:36:09.997263Z",
     "start_time": "2021-03-02T14:36:09.975149Z"
    }
   },
   "outputs": [
    {
     "data": {
      "text/html": [
       "<div>\n",
       "<style scoped>\n",
       "    .dataframe tbody tr th:only-of-type {\n",
       "        vertical-align: middle;\n",
       "    }\n",
       "\n",
       "    .dataframe tbody tr th {\n",
       "        vertical-align: top;\n",
       "    }\n",
       "\n",
       "    .dataframe thead th {\n",
       "        text-align: right;\n",
       "    }\n",
       "</style>\n",
       "<table border=\"1\" class=\"dataframe\">\n",
       "  <thead>\n",
       "    <tr style=\"text-align: right;\">\n",
       "      <th></th>\n",
       "      <th>engelsk</th>\n",
       "      <th>norsk</th>\n",
       "    </tr>\n",
       "  </thead>\n",
       "  <tbody>\n",
       "    <tr>\n",
       "      <th>0</th>\n",
       "      <td>first</td>\n",
       "      <td>første</td>\n",
       "    </tr>\n",
       "    <tr>\n",
       "      <th>1</th>\n",
       "      <td>second</td>\n",
       "      <td>annen</td>\n",
       "    </tr>\n",
       "    <tr>\n",
       "      <th>2</th>\n",
       "      <td>third</td>\n",
       "      <td>tredje</td>\n",
       "    </tr>\n",
       "    <tr>\n",
       "      <th>3</th>\n",
       "      <td>fourth</td>\n",
       "      <td>fjerde</td>\n",
       "    </tr>\n",
       "    <tr>\n",
       "      <th>4</th>\n",
       "      <td>fifth</td>\n",
       "      <td>femte</td>\n",
       "    </tr>\n",
       "    <tr>\n",
       "      <th>...</th>\n",
       "      <td>...</td>\n",
       "      <td>...</td>\n",
       "    </tr>\n",
       "    <tr>\n",
       "      <th>492</th>\n",
       "      <td>the same', ' equal</td>\n",
       "      <td>samme', \" lik</td>\n",
       "    </tr>\n",
       "    <tr>\n",
       "      <th>493</th>\n",
       "      <td>tiring</td>\n",
       "      <td>trøttende</td>\n",
       "    </tr>\n",
       "    <tr>\n",
       "      <th>494</th>\n",
       "      <td>transparent</td>\n",
       "      <td>transparent</td>\n",
       "    </tr>\n",
       "    <tr>\n",
       "      <th>495</th>\n",
       "      <td>unclear</td>\n",
       "      <td>uklar</td>\n",
       "    </tr>\n",
       "    <tr>\n",
       "      <th>496</th>\n",
       "      <td>various</td>\n",
       "      <td>forskjellig</td>\n",
       "    </tr>\n",
       "  </tbody>\n",
       "</table>\n",
       "<p>497 rows × 2 columns</p>\n",
       "</div>"
      ],
      "text/plain": [
       "                engelsk          norsk\n",
       "0                 first         første\n",
       "1                second          annen\n",
       "2                 third         tredje\n",
       "3                fourth         fjerde\n",
       "4                 fifth          femte\n",
       "..                  ...            ...\n",
       "492  the same', ' equal  samme', \" lik\n",
       "493              tiring      trøttende\n",
       "494         transparent    transparent\n",
       "495             unclear          uklar\n",
       "496             various    forskjellig\n",
       "\n",
       "[497 rows x 2 columns]"
      ]
     },
     "execution_count": 75,
     "metadata": {},
     "output_type": "execute_result"
    }
   ],
   "source": [
    "conn = sqlite3.connect('norsk.db')\n",
    "query = '''\n",
    "select * from  IG;'''\n",
    "df = pd.read_sql_query(query,conn)\n",
    "df"
   ]
  },
  {
   "cell_type": "code",
   "execution_count": 42,
   "metadata": {
    "ExecuteTime": {
     "end_time": "2021-03-02T14:29:36.951129Z",
     "start_time": "2021-03-02T14:29:36.939387Z"
    }
   },
   "outputs": [
    {
     "data": {
      "text/plain": [
       "<sqlite3.Cursor at 0x7fef111c7f10>"
      ]
     },
     "execution_count": 42,
     "metadata": {},
     "output_type": "execute_result"
    }
   ],
   "source": [
    "cursor.executescript(\"DROP TABLE IF EXISTS IG\")"
   ]
  },
  {
   "cell_type": "code",
   "execution_count": 43,
   "metadata": {
    "ExecuteTime": {
     "end_time": "2021-03-02T14:29:38.940858Z",
     "start_time": "2021-03-02T14:29:38.931088Z"
    }
   },
   "outputs": [
    {
     "data": {
      "text/plain": [
       "<sqlite3.Cursor at 0x7fef111c7f10>"
      ]
     },
     "execution_count": 43,
     "metadata": {},
     "output_type": "execute_result"
    }
   ],
   "source": [
    "cursor.execute('''CREATE TABLE IG (\n",
    "                engelsk TEXT\n",
    "                ,norsk TEXT)''')"
   ]
  },
  {
   "cell_type": "code",
   "execution_count": 59,
   "metadata": {
    "ExecuteTime": {
     "end_time": "2021-03-02T14:32:15.848993Z",
     "start_time": "2021-03-02T14:32:15.835744Z"
    }
   },
   "outputs": [
    {
     "data": {
      "text/html": [
       "<div>\n",
       "<style scoped>\n",
       "    .dataframe tbody tr th:only-of-type {\n",
       "        vertical-align: middle;\n",
       "    }\n",
       "\n",
       "    .dataframe tbody tr th {\n",
       "        vertical-align: top;\n",
       "    }\n",
       "\n",
       "    .dataframe thead th {\n",
       "        text-align: right;\n",
       "    }\n",
       "</style>\n",
       "<table border=\"1\" class=\"dataframe\">\n",
       "  <thead>\n",
       "    <tr style=\"text-align: right;\">\n",
       "      <th></th>\n",
       "      <th>engelsk</th>\n",
       "      <th>norsk</th>\n",
       "    </tr>\n",
       "  </thead>\n",
       "  <tbody>\n",
       "  </tbody>\n",
       "</table>\n",
       "</div>"
      ],
      "text/plain": [
       "Empty DataFrame\n",
       "Columns: [engelsk, norsk]\n",
       "Index: []"
      ]
     },
     "execution_count": 59,
     "metadata": {},
     "output_type": "execute_result"
    }
   ],
   "source": [
    "df[df.engelsk == \"first\"]"
   ]
  },
  {
   "cell_type": "code",
   "execution_count": null,
   "metadata": {},
   "outputs": [],
   "source": []
  }
 ],
 "metadata": {
  "kernelspec": {
   "display_name": "Python 3",
   "language": "python",
   "name": "python3"
  },
  "language_info": {
   "codemirror_mode": {
    "name": "ipython",
    "version": 3
   },
   "file_extension": ".py",
   "mimetype": "text/x-python",
   "name": "python",
   "nbconvert_exporter": "python",
   "pygments_lexer": "ipython3",
   "version": "3.7.4"
  },
  "toc": {
   "base_numbering": 1,
   "nav_menu": {},
   "number_sections": true,
   "sideBar": true,
   "skip_h1_title": false,
   "title_cell": "Table of Contents",
   "title_sidebar": "Contents",
   "toc_cell": false,
   "toc_position": {},
   "toc_section_display": true,
   "toc_window_display": false
  }
 },
 "nbformat": 4,
 "nbformat_minor": 2
}
