{
 "cells": [
  {
   "cell_type": "code",
   "execution_count": 1,
   "metadata": {
    "ExecuteTime": {
     "end_time": "2021-01-11T17:14:25.816506Z",
     "start_time": "2021-01-11T17:14:25.320264Z"
    }
   },
   "outputs": [],
   "source": [
    "import pandas as pd\n",
    "from datetime import datetime\n",
    "import random"
   ]
  },
  {
   "cell_type": "code",
   "execution_count": 2,
   "metadata": {
    "ExecuteTime": {
     "end_time": "2021-01-11T17:14:25.993693Z",
     "start_time": "2021-01-11T17:14:25.820726Z"
    }
   },
   "outputs": [],
   "source": [
    "verbs = pd.read_excel(\"verbs.xlsx\")\n",
    "df = pd.read_excel(\"VerbBender.xlsx\")\n",
    "\n",
    "#Filter out A2 level verbs\n",
    "verbs = verbs[verbs.A2 == \"Y\"].reset_index(drop = True)"
   ]
  },
  {
   "cell_type": "code",
   "execution_count": 19,
   "metadata": {
    "ExecuteTime": {
     "end_time": "2021-01-11T17:19:53.093452Z",
     "start_time": "2021-01-11T17:19:53.077710Z"
    }
   },
   "outputs": [],
   "source": [
    "def VerbBender():\n",
    "    \n",
    "    dv = 0\n",
    "    bins = []\n",
    "    #for num in range(0, len(verbs)):\n",
    "    for num in range(0, 3):\n",
    "\n",
    "        tenses = ['Infinitive','Present tense','Past tense','Past participle']\n",
    "\n",
    "        print(f\"{dv/len(verbs):.0%}\")\n",
    "\n",
    "        print(verbs['English'][num])\n",
    "        print(verbs[14][num])\n",
    "\n",
    "        counter = 0\n",
    "        atbilde = []\n",
    "        \n",
    "        atbilde.append(datetime.now().strftime(\"%d/%m/%Y %H:%M:%S\"))\n",
    "        atbilde.append(verbs['English'][num])\n",
    "        \n",
    "        for i in tenses:\n",
    "            print(i)\n",
    "            answer= input()\n",
    "            atbilde.append(answer)\n",
    "\n",
    "            if verbs[i][num] != answer:\n",
    "                print(verbs[i][num])\n",
    "                counter+= 1\n",
    "        print(f\"You got {(1 - counter/4):.2%}  correct\")\n",
    "\n",
    "        atbilde.append((1 - counter/4)*100)\n",
    "        df.loc[len(df)] = atbilde\n",
    "        df.to_excel(\"VerbBender.xlsx\", index = False) \n",
    "\n",
    "        \n",
    "        dv +=1\n",
    "        bins.append((1 - counter/4)*100)\n",
    "    bins = pd.DataFrame(bins,columns=['bins'])\n",
    "    print(bins.bins.value_counts())"
   ]
  },
  {
   "cell_type": "code",
   "execution_count": 20,
   "metadata": {
    "ExecuteTime": {
     "end_time": "2021-01-11T17:20:35.488354Z",
     "start_time": "2021-01-11T17:19:54.624015Z"
    }
   },
   "outputs": [
    {
     "name": "stdout",
     "output_type": "stream",
     "text": [
      "0%\n",
      "employ\n",
      "nan\n",
      "Infinitive\n",
      "d\n",
      "å ansette\n",
      "Present tense\n",
      "ansetter\n",
      "Past tense\n",
      "ansett\n",
      "ansatte\n",
      "Past participle\n",
      "har ansett\n",
      "har ansatt\n",
      "You got 25.00%  correct\n",
      "2%\n",
      "interrupt\n",
      "nan\n",
      "Infinitive\n",
      "d\n",
      "å avbryte\n",
      "Present tense\n",
      "avbryter\n",
      "Past tense\n",
      "\n",
      "avbrøt\n",
      "Past participle\n",
      "\n",
      "har avbrutt\n",
      "You got 25.00%  correct\n",
      "4%\n",
      "bear, carry\n",
      "nan\n",
      "Infinitive\n",
      "\n",
      "å bære\n",
      "Present tense\n",
      "\n",
      "bærer\n",
      "Past tense\n",
      "\n",
      "bar\n",
      "Past participle\n",
      "\n",
      "har båret\n",
      "You got 0.00%  correct\n",
      "25.0    2\n",
      "0.0     1\n",
      "Name: bins, dtype: int64\n"
     ]
    }
   ],
   "source": [
    "VerbBender()"
   ]
  },
  {
   "cell_type": "code",
   "execution_count": 6,
   "metadata": {
    "ExecuteTime": {
     "end_time": "2021-01-11T17:15:30.420661Z",
     "start_time": "2021-01-11T17:15:30.413077Z"
    }
   },
   "outputs": [],
   "source": [
    "bins = [0.0, 0.0, 0.0]"
   ]
  },
  {
   "cell_type": "code",
   "execution_count": 11,
   "metadata": {
    "ExecuteTime": {
     "end_time": "2021-01-11T17:17:45.273818Z",
     "start_time": "2021-01-11T17:17:45.268902Z"
    }
   },
   "outputs": [],
   "source": [
    "bins = pd.DataFrame(bins,columns=['bins'])"
   ]
  },
  {
   "cell_type": "code",
   "execution_count": 8,
   "metadata": {
    "ExecuteTime": {
     "end_time": "2021-01-11T17:15:59.980245Z",
     "start_time": "2021-01-11T17:15:59.962732Z"
    }
   },
   "outputs": [
    {
     "ename": "AttributeError",
     "evalue": "'list' object has no attribute 'to_dataframe'",
     "output_type": "error",
     "traceback": [
      "\u001b[0;31m---------------------------------------------------------------------------\u001b[0m",
      "\u001b[0;31mAttributeError\u001b[0m                            Traceback (most recent call last)",
      "\u001b[0;32m<ipython-input-8-0d9f3e33f719>\u001b[0m in \u001b[0;36m<module>\u001b[0;34m\u001b[0m\n\u001b[0;32m----> 1\u001b[0;31m \u001b[0mbins\u001b[0m\u001b[0;34m.\u001b[0m\u001b[0mto_dataframe\u001b[0m\u001b[0;34m(\u001b[0m\u001b[0;34m)\u001b[0m\u001b[0;34m.\u001b[0m\u001b[0mvalue_counts\u001b[0m\u001b[0;34m(\u001b[0m\u001b[0;34m)\u001b[0m\u001b[0;34m\u001b[0m\u001b[0;34m\u001b[0m\u001b[0m\n\u001b[0m",
      "\u001b[0;31mAttributeError\u001b[0m: 'list' object has no attribute 'to_dataframe'"
     ]
    }
   ],
   "source": [
    "bins.to_dataframe().value_counts()"
   ]
  },
  {
   "cell_type": "code",
   "execution_count": 16,
   "metadata": {
    "ExecuteTime": {
     "end_time": "2021-01-11T17:18:18.645232Z",
     "start_time": "2021-01-11T17:18:18.631279Z"
    }
   },
   "outputs": [
    {
     "data": {
      "text/plain": [
       "0.0    3\n",
       "Name: bins, dtype: int64"
      ]
     },
     "execution_count": 16,
     "metadata": {},
     "output_type": "execute_result"
    }
   ],
   "source": [
    "bins.bins.value_counts()"
   ]
  },
  {
   "cell_type": "code",
   "execution_count": null,
   "metadata": {},
   "outputs": [],
   "source": []
  }
 ],
 "metadata": {
  "kernelspec": {
   "display_name": "Python 3",
   "language": "python",
   "name": "python3"
  },
  "language_info": {
   "codemirror_mode": {
    "name": "ipython",
    "version": 3
   },
   "file_extension": ".py",
   "mimetype": "text/x-python",
   "name": "python",
   "nbconvert_exporter": "python",
   "pygments_lexer": "ipython3",
   "version": "3.7.4"
  },
  "toc": {
   "base_numbering": 1,
   "nav_menu": {},
   "number_sections": true,
   "sideBar": true,
   "skip_h1_title": false,
   "title_cell": "Table of Contents",
   "title_sidebar": "Contents",
   "toc_cell": false,
   "toc_position": {},
   "toc_section_display": true,
   "toc_window_display": false
  }
 },
 "nbformat": 4,
 "nbformat_minor": 2
}
