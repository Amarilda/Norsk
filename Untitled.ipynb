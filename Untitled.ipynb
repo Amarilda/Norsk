{
 "cells": [
  {
   "cell_type": "code",
   "execution_count": 1,
   "metadata": {
    "ExecuteTime": {
     "end_time": "2021-01-14T11:54:55.224991Z",
     "start_time": "2021-01-14T11:54:48.784185Z"
    }
   },
   "outputs": [],
   "source": [
    "import pandas as pd\n",
    "from datetime import datetime\n",
    "import random\n",
    "import datetime"
   ]
  },
  {
   "cell_type": "markdown",
   "metadata": {
    "ExecuteTime": {
     "end_time": "2021-01-12T17:20:03.337877Z",
     "start_time": "2021-01-12T17:19:36.276702Z"
    }
   },
   "source": [
    "%run A2.py"
   ]
  },
  {
   "cell_type": "code",
   "execution_count": 15,
   "metadata": {
    "ExecuteTime": {
     "end_time": "2021-01-14T12:10:51.584830Z",
     "start_time": "2021-01-14T12:10:51.549566Z"
    }
   },
   "outputs": [],
   "source": [
    "def VerbBender():\n",
    "    \n",
    "    #Read files\n",
    "    verbs = pd.read_excel(\"verbs.xlsx\")\n",
    "    df = pd.read_excel(\"VerbBender.xlsx\")\n",
    "    df2 = df[df.Date > datetime.datetime.now() - datetime.timedelta(days=2)]\n",
    "    \n",
    "    #Select perfect scores for \n",
    "    perfect10 =[]\n",
    "\n",
    "    for i in df2.Verb.unique():\n",
    "        if max(df2.Percent[df2.Verb == i]) == 100:\n",
    "            perfect10.append(i)   \n",
    "    \n",
    "    #Filter out verbs for training\n",
    "    verbs[(verbs[14].notna()) & ~verbs['English'].isin(perfect10)].reset_index(drop = True)\n",
    "    \n",
    "    dv = 0\n",
    "    bins = []\n",
    "    #for num in range(0, len(verbs)):\n",
    "    for num in range(0, 2):\n",
    "\n",
    "        tenses = ['Infinitive','Present tense','Past tense','Past participle']\n",
    "        print(f\"{dv/len(verbs):.0%}\")\n",
    "\n",
    "        print(verbs['English'][num])\n",
    "        print(verbs[14][num])\n",
    "\n",
    "        counter = 0\n",
    "        atbilde = []\n",
    "        \n",
    "        atbilde.append(datetime.datetime.now())\n",
    "        atbilde.append(verbs['English'][num])\n",
    "        \n",
    "        for i in tenses:\n",
    "            print(i)\n",
    "            answer= input()\n",
    "            atbilde.append(answer)\n",
    "\n",
    "            if verbs[i][num] != answer:\n",
    "                print(verbs[i][num])\n",
    "                counter+= 1\n",
    "        print(f\"You got {(1 - counter/4):.2%}  correct\")\n",
    "\n",
    "        atbilde.append((1 - counter/4)*100)\n",
    "        df.loc[len(df)] = atbilde\n",
    "        df.to_excel(\"VerbBender.xlsx\", index = False) \n",
    "        \n",
    "        dv +=1\n",
    "        bins.append((1 - counter/4)*100)\n",
    "    bins = pd.DataFrame(bins,columns=['bins'])\n",
    "    print(bins.bins.value_counts())"
   ]
  },
  {
   "cell_type": "markdown",
   "metadata": {
    "ExecuteTime": {
     "end_time": "2021-01-12T18:06:18.523865Z",
     "start_time": "2021-01-12T18:06:00.982633Z"
    }
   },
   "source": [
    "VerbBender()"
   ]
  },
  {
   "cell_type": "code",
   "execution_count": null,
   "metadata": {},
   "outputs": [],
   "source": []
  }
 ],
 "metadata": {
  "kernelspec": {
   "display_name": "Python 3",
   "language": "python",
   "name": "python3"
  },
  "language_info": {
   "codemirror_mode": {
    "name": "ipython",
    "version": 3
   },
   "file_extension": ".py",
   "mimetype": "text/x-python",
   "name": "python",
   "nbconvert_exporter": "python",
   "pygments_lexer": "ipython3",
   "version": "3.7.4"
  },
  "toc": {
   "base_numbering": 1,
   "nav_menu": {},
   "number_sections": true,
   "sideBar": true,
   "skip_h1_title": false,
   "title_cell": "Table of Contents",
   "title_sidebar": "Contents",
   "toc_cell": false,
   "toc_position": {},
   "toc_section_display": true,
   "toc_window_display": false
  }
 },
 "nbformat": 4,
 "nbformat_minor": 2
}
