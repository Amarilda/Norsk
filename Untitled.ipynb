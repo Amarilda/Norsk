{
 "cells": [
  {
   "cell_type": "code",
   "execution_count": 1,
   "metadata": {
    "ExecuteTime": {
     "end_time": "2021-01-07T10:24:47.142941Z",
     "start_time": "2021-01-07T10:24:45.018006Z"
    }
   },
   "outputs": [],
   "source": [
    "import pandas as pd\n",
    "from datetime import date\n",
    "import random"
   ]
  },
  {
   "cell_type": "code",
   "execution_count": 2,
   "metadata": {
    "ExecuteTime": {
     "end_time": "2021-01-07T10:24:47.290199Z",
     "start_time": "2021-01-07T10:24:47.146929Z"
    }
   },
   "outputs": [],
   "source": [
    "verbs = pd.read_excel(\"verbs.xlsx\")\n",
    "df = pd.read_excel(\"VerbBender.xlsx\")\n",
    "\n",
    "#Filter out A2 level verbs\n",
    "verbs = verbs[verbs.A2 == \"Y\"].reset_index(drop = True)"
   ]
  },
  {
   "cell_type": "code",
   "execution_count": 3,
   "metadata": {
    "ExecuteTime": {
     "end_time": "2021-01-07T10:24:47.308800Z",
     "start_time": "2021-01-07T10:24:47.293398Z"
    }
   },
   "outputs": [],
   "source": [
    "def VerbBender():\n",
    "    \n",
    "    for num in range(0, len(verbs)):\n",
    "\n",
    "        tenses = ['Infinitive','Present tense','Past tense','Past participle']\n",
    "        print(verbs['English'][num])\n",
    "\n",
    "        counter = 0\n",
    "        atbilde = []\n",
    "        \n",
    "        atbilde.append(date.today().strftime(\"%d/%m/%Y\"))\n",
    "        atbilde.append(verbs['English'][num])\n",
    "        \n",
    "        for i in tenses:\n",
    "            print(i)\n",
    "            answer= input()\n",
    "            atbilde.append(answer)\n",
    "\n",
    "            if verbs[i][num] != answer:\n",
    "                print(verbs[i][num])\n",
    "                counter+= 1\n",
    "        print(\"You got \"+str((1 - counter/4)*100)+\"% correct\")\n",
    "        atbilde.append((1 - counter/4)*100)\n",
    "        df.loc[len(df)] = atbilde\n",
    "        df.to_excel(\"VerbBender.xlsx\", index = False)  "
   ]
  },
  {
   "cell_type": "code",
   "execution_count": null,
   "metadata": {},
   "outputs": [],
   "source": [
    "VerbBender()"
   ]
  }
 ],
 "metadata": {
  "kernelspec": {
   "display_name": "Python 3",
   "language": "python",
   "name": "python3"
  },
  "language_info": {
   "codemirror_mode": {
    "name": "ipython",
    "version": 3
   },
   "file_extension": ".py",
   "mimetype": "text/x-python",
   "name": "python",
   "nbconvert_exporter": "python",
   "pygments_lexer": "ipython3",
   "version": "3.7.4"
  },
  "toc": {
   "base_numbering": 1,
   "nav_menu": {},
   "number_sections": true,
   "sideBar": true,
   "skip_h1_title": false,
   "title_cell": "Table of Contents",
   "title_sidebar": "Contents",
   "toc_cell": false,
   "toc_position": {},
   "toc_section_display": true,
   "toc_window_display": false
  }
 },
 "nbformat": 4,
 "nbformat_minor": 2
}
