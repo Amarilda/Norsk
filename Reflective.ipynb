{
 "cells": [
  {
   "cell_type": "code",
   "execution_count": 78,
   "metadata": {
    "ExecuteTime": {
     "end_time": "2021-01-26T12:22:49.594523Z",
     "start_time": "2021-01-26T12:22:49.477597Z"
    }
   },
   "outputs": [],
   "source": [
    "import pandas as pd\n",
    "import Levenshtein as lev\n",
    "\n",
    "\n",
    "df = pd.read_csv(\"VerbBender.csv\")\n",
    "\n",
    "today = pd.to_datetime('today').normalize()"
   ]
  },
  {
   "cell_type": "code",
   "execution_count": 66,
   "metadata": {
    "ExecuteTime": {
     "end_time": "2021-01-26T12:18:42.230469Z",
     "start_time": "2021-01-26T12:18:42.215938Z"
    }
   },
   "outputs": [
    {
     "data": {
      "text/plain": [
       "False"
      ]
     },
     "execution_count": 66,
     "metadata": {},
     "output_type": "execute_result"
    }
   ],
   "source": [
    "df['Date']"
   ]
  },
  {
   "cell_type": "code",
   "execution_count": 82,
   "metadata": {
    "ExecuteTime": {
     "end_time": "2021-01-26T12:23:14.254541Z",
     "start_time": "2021-01-26T12:23:14.219988Z"
    }
   },
   "outputs": [
    {
     "data": {
      "text/plain": [
       "(56, 11)"
      ]
     },
     "execution_count": 82,
     "metadata": {},
     "output_type": "execute_result"
    }
   ],
   "source": [
    "df2 =df[(df.Percent != 100) & (pd.to_datetime(df['Date']) > today)].reset_index(drop = True)\n",
    "df2.shape"
   ]
  },
  {
   "cell_type": "code",
   "execution_count": 83,
   "metadata": {
    "ExecuteTime": {
     "end_time": "2021-01-26T12:23:16.349250Z",
     "start_time": "2021-01-26T12:23:16.338736Z"
    }
   },
   "outputs": [
    {
     "data": {
      "text/plain": [
       "75.0    30\n",
       "50.0    24\n",
       "25.0     2\n",
       "Name: Percent, dtype: int64"
      ]
     },
     "execution_count": 83,
     "metadata": {},
     "output_type": "execute_result"
    }
   ],
   "source": [
    "df2.Percent.value_counts()"
   ]
  },
  {
   "cell_type": "markdown",
   "metadata": {
    "ExecuteTime": {
     "end_time": "2021-01-26T11:07:44.917183Z",
     "start_time": "2021-01-26T11:07:44.903616Z"
    }
   },
   "source": [
    "df2 =df[(df.Percent != 100)\n",
    "        & (today < pd.to_datetime(df.Date)) \n",
    "        & (df.Percent == 75)].reset_index(drop = True)"
   ]
  },
  {
   "cell_type": "markdown",
   "metadata": {
    "ExecuteTime": {
     "end_time": "2021-01-26T11:37:04.524665Z",
     "start_time": "2021-01-26T11:37:04.518716Z"
    }
   },
   "source": [
    "en = ['C1','Infinitive']\n",
    "to = ['C2', 'Present tense']\n",
    "tre = ['C3','Past tense']\n",
    "fire = ['C4', 'Past participle']\n",
    "\n",
    "pairs = ['en', 'to', 'tre', 'fire']"
   ]
  },
  {
   "cell_type": "code",
   "execution_count": 5,
   "metadata": {
    "ExecuteTime": {
     "end_time": "2021-01-26T11:44:56.036061Z",
     "start_time": "2021-01-26T11:44:56.015677Z"
    }
   },
   "outputs": [
    {
     "name": "stdout",
     "output_type": "stream",
     "text": [
      "14\n",
      "12\n",
      "27\n",
      "31\n"
     ]
    }
   ],
   "source": [
    "print(df2[(df2.C1 == df2.Infinitive)== False].shape[0])\n",
    "print(df2[(df2.C2 == df2['Present tense'])== False].shape[0])\n",
    "print(df2[(df2.C3 == df2['Past tense'])== False].shape[0])\n",
    "print(df2[(df2.C4 == df2['Past participle'])== False].shape[0])"
   ]
  },
  {
   "cell_type": "code",
   "execution_count": 6,
   "metadata": {
    "ExecuteTime": {
     "end_time": "2021-01-26T11:45:10.490098Z",
     "start_time": "2021-01-26T11:45:10.480800Z"
    }
   },
   "outputs": [],
   "source": [
    "a = df2[['C1', 'Infinitive']][(df2.C1 == df2.Infinitive)== False].reset_index(drop = True)"
   ]
  },
  {
   "cell_type": "code",
   "execution_count": 7,
   "metadata": {
    "ExecuteTime": {
     "end_time": "2021-01-26T11:45:11.100919Z",
     "start_time": "2021-01-26T11:45:11.080092Z"
    }
   },
   "outputs": [
    {
     "name": "stdout",
     "output_type": "stream",
     "text": [
      "1 0.8 å bo å bø\n",
      "1 0.9 å hoste å huste\n",
      "1 0.9 å måtte å måte\n",
      "1 0.9 å sende å senne\n",
      "1 0.9 å slutte å slutt\n"
     ]
    }
   ],
   "source": [
    "for i in range(0,a.shape[0]-1):\n",
    "    distance = lev.distance(a.iloc[:, 0][i],a.iloc[:, 1][i])\n",
    "    ratio = lev.ratio(a.iloc[:, 0][i],a.iloc[:, 1][i])\n",
    "    if distance ==1:\n",
    "        print(distance,round(ratio,1),a.iloc[:, 0][i],a.iloc[:, 1][i])"
   ]
  },
  {
   "cell_type": "code",
   "execution_count": 8,
   "metadata": {
    "ExecuteTime": {
     "end_time": "2021-01-26T11:45:12.782197Z",
     "start_time": "2021-01-26T11:45:12.773862Z"
    }
   },
   "outputs": [],
   "source": [
    "a = df2[['C2', 'Present tense']][(df2.C2 == df2['Present tense'])== False].reset_index(drop = True)"
   ]
  },
  {
   "cell_type": "code",
   "execution_count": 9,
   "metadata": {
    "ExecuteTime": {
     "end_time": "2021-01-26T11:45:13.440445Z",
     "start_time": "2021-01-26T11:45:13.393722Z"
    }
   },
   "outputs": [
    {
     "name": "stdout",
     "output_type": "stream",
     "text": [
      "1 0.9 bærer bæarer\n",
      "1 0.9 betyr betyer\n",
      "1 0.8 ordner ordnet\n",
      "1 0.9 sier sir\n",
      "1 0.9 skjønner skjønner@\n"
     ]
    }
   ],
   "source": [
    "for i in range(0,a.shape[0]-1):\n",
    "    distance = lev.distance(a.iloc[:, 0][i],a.iloc[:, 1][i])\n",
    "    ratio = lev.ratio(a.iloc[:, 0][i],a.iloc[:, 1][i])\n",
    "    if distance ==1:\n",
    "        print(distance,round(ratio,1),a.iloc[:, 0][i],a.iloc[:, 1][i])"
   ]
  },
  {
   "cell_type": "code",
   "execution_count": 10,
   "metadata": {
    "ExecuteTime": {
     "end_time": "2021-01-26T11:45:14.789638Z",
     "start_time": "2021-01-26T11:45:14.781713Z"
    }
   },
   "outputs": [],
   "source": [
    "a = df2[['C3', 'Past tense']][(df2.C3 == df2['Past tense'])== False].reset_index(drop = True)"
   ]
  },
  {
   "cell_type": "code",
   "execution_count": 11,
   "metadata": {
    "ExecuteTime": {
     "end_time": "2021-01-26T11:45:15.426158Z",
     "start_time": "2021-01-26T11:45:15.401999Z"
    }
   },
   "outputs": [
    {
     "name": "stdout",
     "output_type": "stream",
     "text": [
      "1 0.8 avbrøt avbryt\n",
      "1 0.9 gav gave\n",
      "1 0.9 rakte rakt\n",
      "1 0.5 sa si\n",
      "1 0.9 satt satte\n",
      "1 0.8 slapp slapt\n",
      "1 0.8 snek snak\n"
     ]
    }
   ],
   "source": [
    "for i in range(0,a.shape[0]-1):\n",
    "    distance = lev.distance(a.iloc[:, 0][i],a.iloc[:, 1][i])\n",
    "    ratio = lev.ratio(a.iloc[:, 0][i],a.iloc[:, 1][i])\n",
    "    if distance ==1:\n",
    "        print(distance,round(ratio,1),a.iloc[:, 0][i],a.iloc[:, 1][i])"
   ]
  },
  {
   "cell_type": "code",
   "execution_count": 12,
   "metadata": {
    "ExecuteTime": {
     "end_time": "2021-01-26T11:45:18.346861Z",
     "start_time": "2021-01-26T11:45:18.337969Z"
    }
   },
   "outputs": [],
   "source": [
    "a = df2[['C4', 'Past participle']][(df2.C4 == df2['Past participle'])== False].reset_index(drop = True)"
   ]
  },
  {
   "cell_type": "code",
   "execution_count": 13,
   "metadata": {
    "ExecuteTime": {
     "end_time": "2021-01-26T11:45:18.842472Z",
     "start_time": "2021-01-26T11:45:18.798515Z"
    }
   },
   "outputs": [
    {
     "name": "stdout",
     "output_type": "stream",
     "text": [
      "1 0.9 har avbrutt har avbrøtt\n",
      "1 0.9 har båret har bårett\n",
      "1 0.9 har blitt har blatt\n",
      "1 0.9 har brutt har brott\n",
      "1 0.9 har burdet har børdet\n",
      "1 0.9 har dødd har død\n",
      "1 0.9 har ligget har lagget\n",
      "1 0.9 har sett har sått\n",
      "1 0.9 har sittet har sattet\n",
      "1 0.9 har skåret har skaret\n",
      "1 0.9 har slått har slott\n",
      "1 0.9 har stjålet har stjulet\n"
     ]
    }
   ],
   "source": [
    "for i in range(0,a.shape[0]-1):\n",
    "    distance = lev.distance(a.iloc[:, 0][i],a.iloc[:, 1][i])\n",
    "    ratio = lev.ratio(a.iloc[:, 0][i],a.iloc[:, 1][i])\n",
    "    if distance ==1:\n",
    "        print(distance,round(ratio,1),a.iloc[:, 0][i],a.iloc[:, 1][i])"
   ]
  },
  {
   "cell_type": "markdown",
   "metadata": {},
   "source": [
    "TogetHER"
   ]
  },
  {
   "cell_type": "code",
   "execution_count": 117,
   "metadata": {
    "ExecuteTime": {
     "end_time": "2021-01-26T12:43:34.839179Z",
     "start_time": "2021-01-26T12:43:34.687327Z"
    }
   },
   "outputs": [
    {
     "name": "stdout",
     "output_type": "stream",
     "text": [
      "å avbryte avbrøt avbryt\n",
      "å avbryte har avbrutt har avbrøtt\n",
      "å bære bærer bæarer\n",
      "å bære har båret har bårett\n",
      "å bety betyr betyer\n",
      "å bli har blitt har blatt\n",
      "å bo å bo å bø\n",
      "å bryte har brutt har brott\n",
      "å burde har burdet har børdet\n",
      "å dø har dødd har død\n",
      "å gi gav gave\n",
      "å hoste å hoste å huste\n",
      "å ligge har ligget har lagget\n",
      "å måtte å måtte å måte\n",
      "å ordne ordner ordnet\n",
      "å rekke rakte rakt\n",
      "å se har sett har sått\n",
      "å sende å sende å senne\n",
      "å si sier sir\n",
      "å si sa si\n",
      "å sitte satt satte\n",
      "å sitte har sittet har sattet\n",
      "å skjære har skåret har skaret\n",
      "å skjønne skjønner skjønner@\n",
      "å slå har slått har slott\n",
      "å slippe slapp slapt\n",
      "å slutte å slutte å slutt\n",
      "å snike snek snak\n",
      "å stjele har stjålet har stjulet\n",
      "å tro å tro å trø\n",
      "å være har vært har været\n"
     ]
    }
   ],
   "source": [
    "for i in range(0,df2.shape[0]-1):\n",
    "    for j in [2,4,6,8]:\n",
    "        distance = lev.distance(df2.iloc[:, j][i],df2.iloc[:, j+1][i])\n",
    "        ratio = lev.ratio(df2.iloc[:, j][i],df2.iloc[:, j+1][i])\n",
    "        if distance ==1:\n",
    "            print(df2.C1[i], df2.iloc[:, j][i],df2.iloc[:, j+1][i])"
   ]
  },
  {
   "cell_type": "code",
   "execution_count": 113,
   "metadata": {
    "ExecuteTime": {
     "end_time": "2021-01-26T12:40:01.140294Z",
     "start_time": "2021-01-26T12:40:00.960469Z"
    }
   },
   "outputs": [
    {
     "name": "stdout",
     "output_type": "stream",
     "text": [
      "1 0.8 å avbryte avbrøt avbryt\n",
      "1 0.9 å avbryte har avbrutt har avbrøtt\n",
      "1 0.9 å bære bærer bæarer\n",
      "1 0.9 å bære har båret har bårett\n",
      "2 0.4 å be ba ble\n",
      "2 0.8 å be har bedt har bått\n",
      "1 0.9 å bety betyr betyer\n",
      "4 0.7 å bevege å bevege å begestre\n",
      "5 0.7 å bevege har beveget bevegt\n",
      "1 0.9 å bli har blitt har blatt\n",
      "1 0.8 å bo å bo å bø\n",
      "2 0.7 å bryte brøt brytt\n",
      "1 0.9 å bryte har brutt har brott\n",
      "4 0.4 å burde bør burder\n",
      "1 0.9 å burde har burdet har børdet\n",
      "1 0.9 å dø har dødd har død\n",
      "2 0.6 å dra dro drev\n",
      "4 0.7 å dra har dratt har do\n",
      "3 0.4 å finne fant finde\n",
      "2 0.8 å finne har funnet har findet\n",
      "3 0.9 å foretrekke har foretrukket har foretrakk\n",
      "4 0.7 å forklare å forklare å fortelle\n",
      "2 0.8 å forstå forsto forstøv\n",
      "3 0.8 å forstå har forstått har forsto\n",
      "2 0.9 å forsvinne har forsvunnet har forsvantet\n",
      "1 0.9 å gi gav gave\n",
      "3 0.7 å gi har gitt har gavet\n",
      "2 0.8 å gjøre gjør gjører\n",
      "2 0.7 å gjøre gjorde gjøre\n",
      "2 0.8 å gjøre har gjort har gjørd\n",
      "4 0.8 å glede seg å glede seg å glede\n",
      "3 0.4 å ha hadde hatt\n",
      "1 0.9 å hoste å hoste å huste\n",
      "5 0.4 å huske å huske å glemme\n",
      "5 0.4 å kaste å kaste å f\n",
      "4 0.4 å kunne kan kunner\n",
      "2 0.8 å lage laget lagte\n",
      "2 0.9 å lage har laget har lgt\n",
      "3 0.3 å le lo lier\n",
      "3 0.6 å le har ledd har lått\n",
      "3 0.3 å legge la legg\n",
      "2 0.8 å legge har lagt har lått\n",
      "3 0.3 å ligge lå lagt\n",
      "1 0.9 å ligge har ligget har lagget\n",
      "1 0.9 å måtte å måtte å måte\n",
      "4 0.8 å måtte har måttet måttet\n",
      "2 0.6 å nyte nøt nytt\n",
      "2 0.9 å nyte har nytt har nyttet\n",
      "1 0.8 å ordne ordner ordnet\n",
      "1 0.9 å rekke rakte rakt\n",
      "2 0.8 å ri har ridd har rir\n",
      "4 0.6 å rydde å rydde å r\n",
      "3 0.3 å se så sier\n",
      "1 0.9 å se har sett har sått\n",
      "1 0.9 å sende å sende å senne\n",
      "1 0.9 å si sier sir\n",
      "1 0.5 å si sa si\n",
      "3 0.7 å si har sagt har so\n",
      "1 0.9 å sitte satt satte\n",
      "1 0.9 å sitte har sittet har sattet\n",
      "2 0.7 å skjære skar skjær\n",
      "1 0.9 å skjære har skåret har skaret\n",
      "1 0.9 å skjønne skjønner skjønner@\n",
      "2 0.9 å skrive har skrevet har skrivett\n",
      "4 0.5 å skulle skal skuller\n",
      "2 0.6 å slå slo slør\n",
      "1 0.9 å slå har slått har slott\n",
      "1 0.8 å slippe slapp slapt\n",
      "1 0.9 å slutte å slutte å slutt\n",
      "1 0.8 å snike snek snak\n",
      "5 0.6 å spille å spille å leke\n",
      "3 0.7 å spørre spør spørrer\n",
      "5 0.7 å spørre spurte har spurt\n",
      "3 0.4 å stå stod stått\n",
      "6 0.4 å stemme å stemme å v\n",
      "1 0.9 å stjele har stjålet har stjulet\n",
      "3 0.7 å stryke strøk strikke\n",
      "2 0.8 å stryke har strøket har stikket\n",
      "2 0.6 å ta tok takk\n",
      "1 0.8 å tro å tro å trø\n",
      "2 0.4 å være er var\n",
      "1 0.9 å være har vært har været\n"
     ]
    }
   ],
   "source": [
    "for i in range(0,df2.shape[0]-1):\n",
    "    for j in [2,4,6,8]:\n",
    "        distance = lev.distance(df2.iloc[:, j][i],df2.iloc[:, j+1][i])\n",
    "        ratio = lev.ratio(df2.iloc[:, j][i],df2.iloc[:, j+1][i])\n",
    "        if distance != 0:\n",
    "            print(distance, round(ratio,1), df2.C1[i], df2.iloc[:, j][i],df2.iloc[:, j+1][i])"
   ]
  },
  {
   "cell_type": "code",
   "execution_count": null,
   "metadata": {},
   "outputs": [],
   "source": []
  }
 ],
 "metadata": {
  "kernelspec": {
   "display_name": "Python 3",
   "language": "python",
   "name": "python3"
  },
  "language_info": {
   "codemirror_mode": {
    "name": "ipython",
    "version": 3
   },
   "file_extension": ".py",
   "mimetype": "text/x-python",
   "name": "python",
   "nbconvert_exporter": "python",
   "pygments_lexer": "ipython3",
   "version": "3.7.4"
  },
  "toc": {
   "base_numbering": 1,
   "nav_menu": {},
   "number_sections": true,
   "sideBar": true,
   "skip_h1_title": false,
   "title_cell": "Table of Contents",
   "title_sidebar": "Contents",
   "toc_cell": false,
   "toc_position": {},
   "toc_section_display": true,
   "toc_window_display": false
  }
 },
 "nbformat": 4,
 "nbformat_minor": 2
}
