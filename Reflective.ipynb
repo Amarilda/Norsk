{
 "cells": [
  {
   "cell_type": "code",
   "execution_count": 3,
   "metadata": {
    "ExecuteTime": {
     "end_time": "2021-01-29T11:00:17.142598Z",
     "start_time": "2021-01-29T11:00:09.800458Z"
    }
   },
   "outputs": [],
   "source": [
    "import pandas as pd\n",
    "import Levenshtein as lev\n",
    "import datetime as datetime\n",
    "\n",
    "df = pd.read_csv(\"VerbBender.csv\")\n",
    "\n",
    "today = pd.to_datetime('today').normalize()"
   ]
  },
  {
   "cell_type": "code",
   "execution_count": 4,
   "metadata": {
    "ExecuteTime": {
     "end_time": "2021-01-29T11:00:17.172613Z",
     "start_time": "2021-01-29T11:00:17.146096Z"
    }
   },
   "outputs": [
    {
     "data": {
      "text/plain": [
       "(71, 11)"
      ]
     },
     "execution_count": 4,
     "metadata": {},
     "output_type": "execute_result"
    }
   ],
   "source": [
    "df2 =df[(df.Percent != 100) & (pd.to_datetime(df['Date']) > today)].reset_index(drop = True)\n",
    "df2.shape"
   ]
  },
  {
   "cell_type": "code",
   "execution_count": 5,
   "metadata": {
    "ExecuteTime": {
     "end_time": "2021-01-29T11:00:17.235499Z",
     "start_time": "2021-01-29T11:00:17.186376Z"
    }
   },
   "outputs": [
    {
     "data": {
      "text/plain": [
       "50.0    43\n",
       "75.0    25\n",
       "25.0     3\n",
       "Name: Percent, dtype: int64"
      ]
     },
     "execution_count": 5,
     "metadata": {},
     "output_type": "execute_result"
    }
   ],
   "source": [
    "df2.Percent.value_counts()"
   ]
  },
  {
   "cell_type": "markdown",
   "metadata": {
    "ExecuteTime": {
     "end_time": "2021-01-26T11:07:44.917183Z",
     "start_time": "2021-01-26T11:07:44.903616Z"
    }
   },
   "source": [
    "df2 =df[(df.Percent != 100)\n",
    "        & (today < pd.to_datetime(df.Date)) \n",
    "        & (df.Percent == 75)].reset_index(drop = True)"
   ]
  },
  {
   "cell_type": "markdown",
   "metadata": {
    "ExecuteTime": {
     "end_time": "2021-01-26T11:37:04.524665Z",
     "start_time": "2021-01-26T11:37:04.518716Z"
    }
   },
   "source": [
    "en = ['C1','Infinitive']\n",
    "to = ['C2', 'Present tense']\n",
    "tre = ['C3','Past tense']\n",
    "fire = ['C4', 'Past participle']\n",
    "\n",
    "pairs = ['en', 'to', 'tre', 'fire']"
   ]
  },
  {
   "cell_type": "code",
   "execution_count": 4,
   "metadata": {
    "ExecuteTime": {
     "end_time": "2021-01-29T09:13:27.689369Z",
     "start_time": "2021-01-29T09:13:27.636775Z"
    }
   },
   "outputs": [
    {
     "name": "stdout",
     "output_type": "stream",
     "text": [
      "2\n",
      "3\n",
      "24\n",
      "20\n"
     ]
    }
   ],
   "source": [
    "print(df2[(df2.C1 == df2.Infinitive)== False].shape[0])\n",
    "print(df2[(df2.C2 == df2['Present tense'])== False].shape[0])\n",
    "print(df2[(df2.C3 == df2['Past tense'])== False].shape[0])\n",
    "print(df2[(df2.C4 == df2['Past participle'])== False].shape[0])"
   ]
  },
  {
   "cell_type": "code",
   "execution_count": 6,
   "metadata": {
    "ExecuteTime": {
     "end_time": "2021-01-29T11:00:17.254568Z",
     "start_time": "2021-01-29T11:00:17.240774Z"
    }
   },
   "outputs": [],
   "source": [
    "AlmostThere = []"
   ]
  },
  {
   "cell_type": "code",
   "execution_count": 7,
   "metadata": {
    "ExecuteTime": {
     "end_time": "2021-01-29T11:00:19.257566Z",
     "start_time": "2021-01-29T11:00:19.052274Z"
    }
   },
   "outputs": [
    {
     "name": "stdout",
     "output_type": "stream",
     "text": [
      "å bryte brøt brøtt\n",
      "å burde burde burder\n",
      "å finne har funnet har funtet\n",
      "å forklare forklarte forklart\n",
      "å legge har lagt har latt\n",
      "å nyte nøt nyt\n",
      "å ri red redd\n",
      "å se har sett har sått\n",
      "å si sier sir\n",
      "å sitte satt satte\n",
      "å skjære har skåret har skaret\n",
      "å slippe har sluppet har slappet\n",
      "å stå stod stor\n",
      "å burde burde burder\n",
      "å nyte har nytt har nyt\n",
      "å se har sett har sått\n",
      "å sitte satt satte\n",
      "å slippe har sluppet har slappet\n",
      "å stå har stått har statt\n",
      "å legge har lagt har latt\n",
      "å nyte nøt nyt\n",
      "å se ser ser5\n",
      "å se så se\n",
      "å si har sagt har satt\n",
      "å stå stod sto\n",
      "å legge har lagt har legt\n",
      "å nyte har nytt har nyt\n",
      "å sitte å sitte å sitt\n",
      "å skjære skar skår\n",
      "å stå stod sto\n",
      "å se så sa\n",
      "å se har sett har satt\n",
      "å si å si å so\n",
      "å stå stod sto\n",
      "å legge har lagt har laget\n",
      "å se så sa\n",
      "å skjære har skåret har skjåret\n",
      "å stå stod sto\n",
      "å se har sett har satt\n",
      "å skjære skar skår\n",
      "å skjære har skåret har skaret\n",
      "å stå stod sto\n",
      "å se har sett har sått\n"
     ]
    }
   ],
   "source": [
    "for i in range(0,df2.shape[0]-1):\n",
    "    for j in [2,4,6,8]:\n",
    "        distance = lev.distance(df2.iloc[:, j][i],df2.iloc[:, j+1][i])\n",
    "        ratio = lev.ratio(df2.iloc[:, j][i],df2.iloc[:, j+1][i])\n",
    "        if distance ==1:\n",
    "            print(df2.C1[i], df2.iloc[:, j][i],df2.iloc[:, j+1][i])\n",
    "            AlmostThere.append(df2.C1[i])"
   ]
  },
  {
   "cell_type": "code",
   "execution_count": null,
   "metadata": {
    "ExecuteTime": {
     "start_time": "2021-01-29T11:00:41.741Z"
    }
   },
   "outputs": [],
   "source": [
    "while len(AlmostThere) !=0:\n",
    "    #Read the files\n",
    "    verbs = pd.read_csv(\"verbs.csv\")\n",
    "    df = pd.read_csv(\"VerbBender.csv\")\n",
    "    df['Date'] = pd.to_datetime(df['Date'])\n",
    "    df2 = df[pd.to_datetime(df['Date']) > today].reset_index(drop = True)\n",
    "    print(len(df2))\n",
    "    \n",
    "    #Select the perfect score\n",
    "    perfect10 =[]\n",
    "\n",
    "    for i in df2.Verb.unique():\n",
    "        if max(df2.Percent[df2.Verb == i]) == 100:\n",
    "            perfect10.append(i)\n",
    "\n",
    "    #Filter out verbs for training\n",
    "    #verbs = verbs[(verbs[14].notna())| (verbs.A2 == \"Y\")].reset_index(drop = True)\n",
    "    verbs = verbs[verbs.Infinitive.isin(AlmostThere) & ~verbs['English'].isin(perfect10)].reset_index(drop = True)\n",
    "    print(len(verbs))\n",
    "    \n",
    "    dv = 0\n",
    "    bins = []\n",
    " \n",
    "    print()\n",
    "#print(f\"Todays mission is {len(verbs[verbs['Ending'].notna()])} A2 verbs and {len(verbs.A2 == \"Y\")} irregular verbs\")\n",
    "    print(f'Todays mission is {len(verbs[verbs.Ending.notna()])} A2 verbs and {len(verbs[verbs.A2 == \"Y\"])} irregular verbs')\n",
    "    \n",
    "    for num in range(0, len(verbs)):\n",
    "\n",
    "        tenses = ['Infinitive','Present tense','Past tense','Past participle']\n",
    "\n",
    "        print()\n",
    "        print(f\"{dv/len(verbs):.0%}\")\n",
    "\n",
    "        print(verbs['English'][num])\n",
    "        \n",
    "        if verbs['A2'][num] == \"Y\":\n",
    "            print('Irregular Joe')\n",
    "        else:\n",
    "            print(verbs['Ending'][num])\n",
    "        \n",
    "        counter = 0\n",
    "        atbilde = []\n",
    "        \n",
    "        atbilde.append(datetime.datetime.now())\n",
    "        atbilde.append(verbs['English'][num])\n",
    "        \n",
    "        if verbs['A2'][num] == \"Y\":\n",
    "            print(verbs['Infinitive'][num])\n",
    "        \n",
    "        for i in tenses:\n",
    "            print(i)\n",
    "            atbilde.append(verbs[i][num])\n",
    "\n",
    "            answer= input()\n",
    "            atbilde.append(answer)      \n",
    "\n",
    "            if verbs[i][num] != answer:\n",
    "                print(verbs[i][num])\n",
    "                counter+= 1\n",
    "        print(f\"You got {(1 - counter/4):.2%}  correct\")\n",
    "\n",
    "        atbilde.append((1 - counter/4)*100)\n",
    "        df.loc[len(df)] = atbilde \n",
    "        df.to_csv(\"VerbBender.csv\", index = False) \n",
    "\n",
    "        bins.append((1 - counter/4)*100)\n",
    "\n",
    "        dv +=1\n",
    "    bins = pd.DataFrame(bins,columns=['bins'])\n",
    "    print()\n",
    "    print(\"Your summary:\")\n",
    "    print(bins.bins.value_counts())\n",
    "          \n",
    "          \n",
    "    for i in range(0,df2.shape[0]-1):\n",
    "        for j in [2,4,6,8]:\n",
    "            distance = lev.distance(df2.iloc[:, j][i],df2.iloc[:, j+1][i])\n",
    "            ratio = lev.ratio(df2.iloc[:, j][i],df2.iloc[:, j+1][i])\n",
    "            if distance ==1:\n",
    "                AlmostThere.append(df2.C1[i])\n",
    "\n",
    "# You think you have a free will? \n",
    "VerbBender()\n",
    "    "
   ]
  },
  {
   "cell_type": "code",
   "execution_count": null,
   "metadata": {},
   "outputs": [],
   "source": []
  }
 ],
 "metadata": {
  "kernelspec": {
   "display_name": "Python 3",
   "language": "python",
   "name": "python3"
  },
  "language_info": {
   "codemirror_mode": {
    "name": "ipython",
    "version": 3
   },
   "file_extension": ".py",
   "mimetype": "text/x-python",
   "name": "python",
   "nbconvert_exporter": "python",
   "pygments_lexer": "ipython3",
   "version": "3.7.4"
  },
  "toc": {
   "base_numbering": 1,
   "nav_menu": {},
   "number_sections": true,
   "sideBar": true,
   "skip_h1_title": false,
   "title_cell": "Table of Contents",
   "title_sidebar": "Contents",
   "toc_cell": false,
   "toc_position": {},
   "toc_section_display": true,
   "toc_window_display": false
  }
 },
 "nbformat": 4,
 "nbformat_minor": 2
}
