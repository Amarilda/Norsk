{
 "cells": [
  {
   "cell_type": "code",
   "execution_count": 19,
   "metadata": {
    "ExecuteTime": {
     "end_time": "2021-01-29T09:37:18.583648Z",
     "start_time": "2021-01-29T09:37:18.556497Z"
    }
   },
   "outputs": [],
   "source": [
    "import pandas as pd\n",
    "import Levenshtein as lev\n",
    "import datetime as datetime\n",
    "\n",
    "df = pd.read_csv(\"VerbBender.csv\")\n",
    "\n",
    "today = pd.to_datetime('today').normalize()"
   ]
  },
  {
   "cell_type": "code",
   "execution_count": 2,
   "metadata": {
    "ExecuteTime": {
     "end_time": "2021-01-29T09:13:27.564721Z",
     "start_time": "2021-01-29T09:13:27.525721Z"
    }
   },
   "outputs": [
    {
     "data": {
      "text/plain": [
       "(27, 11)"
      ]
     },
     "execution_count": 2,
     "metadata": {},
     "output_type": "execute_result"
    }
   ],
   "source": [
    "df2 =df[(df.Percent != 100) & (pd.to_datetime(df['Date']) > today)].reset_index(drop = True)\n",
    "df2.shape"
   ]
  },
  {
   "cell_type": "code",
   "execution_count": 3,
   "metadata": {
    "ExecuteTime": {
     "end_time": "2021-01-29T09:13:27.616727Z",
     "start_time": "2021-01-29T09:13:27.575159Z"
    }
   },
   "outputs": [
    {
     "data": {
      "text/plain": [
       "50.0    18\n",
       "75.0     7\n",
       "25.0     2\n",
       "Name: Percent, dtype: int64"
      ]
     },
     "execution_count": 3,
     "metadata": {},
     "output_type": "execute_result"
    }
   ],
   "source": [
    "df2.Percent.value_counts()"
   ]
  },
  {
   "cell_type": "markdown",
   "metadata": {
    "ExecuteTime": {
     "end_time": "2021-01-26T11:07:44.917183Z",
     "start_time": "2021-01-26T11:07:44.903616Z"
    }
   },
   "source": [
    "df2 =df[(df.Percent != 100)\n",
    "        & (today < pd.to_datetime(df.Date)) \n",
    "        & (df.Percent == 75)].reset_index(drop = True)"
   ]
  },
  {
   "cell_type": "markdown",
   "metadata": {
    "ExecuteTime": {
     "end_time": "2021-01-26T11:37:04.524665Z",
     "start_time": "2021-01-26T11:37:04.518716Z"
    }
   },
   "source": [
    "en = ['C1','Infinitive']\n",
    "to = ['C2', 'Present tense']\n",
    "tre = ['C3','Past tense']\n",
    "fire = ['C4', 'Past participle']\n",
    "\n",
    "pairs = ['en', 'to', 'tre', 'fire']"
   ]
  },
  {
   "cell_type": "code",
   "execution_count": 4,
   "metadata": {
    "ExecuteTime": {
     "end_time": "2021-01-29T09:13:27.689369Z",
     "start_time": "2021-01-29T09:13:27.636775Z"
    }
   },
   "outputs": [
    {
     "name": "stdout",
     "output_type": "stream",
     "text": [
      "2\n",
      "3\n",
      "24\n",
      "20\n"
     ]
    }
   ],
   "source": [
    "print(df2[(df2.C1 == df2.Infinitive)== False].shape[0])\n",
    "print(df2[(df2.C2 == df2['Present tense'])== False].shape[0])\n",
    "print(df2[(df2.C3 == df2['Past tense'])== False].shape[0])\n",
    "print(df2[(df2.C4 == df2['Past participle'])== False].shape[0])"
   ]
  },
  {
   "cell_type": "code",
   "execution_count": 7,
   "metadata": {
    "ExecuteTime": {
     "end_time": "2021-01-29T09:15:05.472238Z",
     "start_time": "2021-01-29T09:15:05.467609Z"
    }
   },
   "outputs": [],
   "source": [
    "AlmostThere = []"
   ]
  },
  {
   "cell_type": "code",
   "execution_count": 8,
   "metadata": {
    "ExecuteTime": {
     "end_time": "2021-01-29T09:15:07.566233Z",
     "start_time": "2021-01-29T09:15:07.466963Z"
    }
   },
   "outputs": [
    {
     "name": "stdout",
     "output_type": "stream",
     "text": [
      "å bryte brøt brøtt\n",
      "å burde burde burder\n",
      "å finne har funnet har funtet\n",
      "å forklare forklarte forklart\n",
      "å legge har lagt har latt\n",
      "å nyte nøt nyt\n",
      "å ri red redd\n",
      "å se har sett har sått\n",
      "å si sier sir\n",
      "å sitte satt satte\n",
      "å skjære har skåret har skaret\n",
      "å slippe har sluppet har slappet\n",
      "å stå stod stor\n"
     ]
    }
   ],
   "source": [
    "for i in range(0,df2.shape[0]-1):\n",
    "    for j in [2,4,6,8]:\n",
    "        distance = lev.distance(df2.iloc[:, j][i],df2.iloc[:, j+1][i])\n",
    "        ratio = lev.ratio(df2.iloc[:, j][i],df2.iloc[:, j+1][i])\n",
    "        if distance ==1:\n",
    "            print(df2.C1[i], df2.iloc[:, j][i],df2.iloc[:, j+1][i])\n",
    "            AlmostThere.append(df2.C1[i])"
   ]
  },
  {
   "cell_type": "code",
   "execution_count": 46,
   "metadata": {
    "ExecuteTime": {
     "end_time": "2021-01-29T09:52:26.537591Z",
     "start_time": "2021-01-29T09:52:12.742553Z"
    }
   },
   "outputs": [
    {
     "name": "stdout",
     "output_type": "stream",
     "text": [
      "31\n",
      "13\n",
      "\n",
      "Todays mission is 2 A2 verbs and 12 irregular verbs\n",
      "\n",
      "0%\n",
      "violate, break\n",
      "Irregular Joe\n",
      "å bryte\n",
      "Infinitive\n"
     ]
    },
    {
     "ename": "KeyboardInterrupt",
     "evalue": "",
     "output_type": "error",
     "traceback": [
      "\u001b[0;31m---------------------------------------------------------------------------\u001b[0m",
      "\u001b[0;31mKeyboardInterrupt\u001b[0m                         Traceback (most recent call last)",
      "\u001b[0;32m~/opt/anaconda3/lib/python3.7/site-packages/ipykernel/kernelbase.py\u001b[0m in \u001b[0;36m_input_request\u001b[0;34m(self, prompt, ident, parent, password)\u001b[0m\n\u001b[1;32m    884\u001b[0m             \u001b[0;32mtry\u001b[0m\u001b[0;34m:\u001b[0m\u001b[0;34m\u001b[0m\u001b[0;34m\u001b[0m\u001b[0m\n\u001b[0;32m--> 885\u001b[0;31m                 \u001b[0mident\u001b[0m\u001b[0;34m,\u001b[0m \u001b[0mreply\u001b[0m \u001b[0;34m=\u001b[0m \u001b[0mself\u001b[0m\u001b[0;34m.\u001b[0m\u001b[0msession\u001b[0m\u001b[0;34m.\u001b[0m\u001b[0mrecv\u001b[0m\u001b[0;34m(\u001b[0m\u001b[0mself\u001b[0m\u001b[0;34m.\u001b[0m\u001b[0mstdin_socket\u001b[0m\u001b[0;34m,\u001b[0m \u001b[0;36m0\u001b[0m\u001b[0;34m)\u001b[0m\u001b[0;34m\u001b[0m\u001b[0;34m\u001b[0m\u001b[0m\n\u001b[0m\u001b[1;32m    886\u001b[0m             \u001b[0;32mexcept\u001b[0m \u001b[0mException\u001b[0m\u001b[0;34m:\u001b[0m\u001b[0;34m\u001b[0m\u001b[0;34m\u001b[0m\u001b[0m\n",
      "\u001b[0;32m~/opt/anaconda3/lib/python3.7/site-packages/jupyter_client/session.py\u001b[0m in \u001b[0;36mrecv\u001b[0;34m(self, socket, mode, content, copy)\u001b[0m\n\u001b[1;32m    802\u001b[0m         \u001b[0;32mtry\u001b[0m\u001b[0;34m:\u001b[0m\u001b[0;34m\u001b[0m\u001b[0;34m\u001b[0m\u001b[0m\n\u001b[0;32m--> 803\u001b[0;31m             \u001b[0mmsg_list\u001b[0m \u001b[0;34m=\u001b[0m \u001b[0msocket\u001b[0m\u001b[0;34m.\u001b[0m\u001b[0mrecv_multipart\u001b[0m\u001b[0;34m(\u001b[0m\u001b[0mmode\u001b[0m\u001b[0;34m,\u001b[0m \u001b[0mcopy\u001b[0m\u001b[0;34m=\u001b[0m\u001b[0mcopy\u001b[0m\u001b[0;34m)\u001b[0m\u001b[0;34m\u001b[0m\u001b[0;34m\u001b[0m\u001b[0m\n\u001b[0m\u001b[1;32m    804\u001b[0m         \u001b[0;32mexcept\u001b[0m \u001b[0mzmq\u001b[0m\u001b[0;34m.\u001b[0m\u001b[0mZMQError\u001b[0m \u001b[0;32mas\u001b[0m \u001b[0me\u001b[0m\u001b[0;34m:\u001b[0m\u001b[0;34m\u001b[0m\u001b[0;34m\u001b[0m\u001b[0m\n",
      "\u001b[0;32m~/opt/anaconda3/lib/python3.7/site-packages/zmq/sugar/socket.py\u001b[0m in \u001b[0;36mrecv_multipart\u001b[0;34m(self, flags, copy, track)\u001b[0m\n\u001b[1;32m    474\u001b[0m         \"\"\"\n\u001b[0;32m--> 475\u001b[0;31m         \u001b[0mparts\u001b[0m \u001b[0;34m=\u001b[0m \u001b[0;34m[\u001b[0m\u001b[0mself\u001b[0m\u001b[0;34m.\u001b[0m\u001b[0mrecv\u001b[0m\u001b[0;34m(\u001b[0m\u001b[0mflags\u001b[0m\u001b[0;34m,\u001b[0m \u001b[0mcopy\u001b[0m\u001b[0;34m=\u001b[0m\u001b[0mcopy\u001b[0m\u001b[0;34m,\u001b[0m \u001b[0mtrack\u001b[0m\u001b[0;34m=\u001b[0m\u001b[0mtrack\u001b[0m\u001b[0;34m)\u001b[0m\u001b[0;34m]\u001b[0m\u001b[0;34m\u001b[0m\u001b[0;34m\u001b[0m\u001b[0m\n\u001b[0m\u001b[1;32m    476\u001b[0m         \u001b[0;31m# have first part already, only loop while more to receive\u001b[0m\u001b[0;34m\u001b[0m\u001b[0;34m\u001b[0m\u001b[0;34m\u001b[0m\u001b[0m\n",
      "\u001b[0;32mzmq/backend/cython/socket.pyx\u001b[0m in \u001b[0;36mzmq.backend.cython.socket.Socket.recv\u001b[0;34m()\u001b[0m\n",
      "\u001b[0;32mzmq/backend/cython/socket.pyx\u001b[0m in \u001b[0;36mzmq.backend.cython.socket.Socket.recv\u001b[0;34m()\u001b[0m\n",
      "\u001b[0;32mzmq/backend/cython/socket.pyx\u001b[0m in \u001b[0;36mzmq.backend.cython.socket._recv_copy\u001b[0;34m()\u001b[0m\n",
      "\u001b[0;32m~/opt/anaconda3/lib/python3.7/site-packages/zmq/backend/cython/checkrc.pxd\u001b[0m in \u001b[0;36mzmq.backend.cython.checkrc._check_rc\u001b[0;34m()\u001b[0m\n",
      "\u001b[0;31mKeyboardInterrupt\u001b[0m: ",
      "\nDuring handling of the above exception, another exception occurred:\n",
      "\u001b[0;31mKeyboardInterrupt\u001b[0m                         Traceback (most recent call last)",
      "\u001b[0;32m<ipython-input-46-11fb7d0f7bd2>\u001b[0m in \u001b[0;36m<module>\u001b[0;34m\u001b[0m\n\u001b[1;32m     53\u001b[0m             \u001b[0matbilde\u001b[0m\u001b[0;34m.\u001b[0m\u001b[0mappend\u001b[0m\u001b[0;34m(\u001b[0m\u001b[0mverbs\u001b[0m\u001b[0;34m[\u001b[0m\u001b[0mi\u001b[0m\u001b[0;34m]\u001b[0m\u001b[0;34m[\u001b[0m\u001b[0mnum\u001b[0m\u001b[0;34m]\u001b[0m\u001b[0;34m)\u001b[0m\u001b[0;34m\u001b[0m\u001b[0;34m\u001b[0m\u001b[0m\n\u001b[1;32m     54\u001b[0m \u001b[0;34m\u001b[0m\u001b[0m\n\u001b[0;32m---> 55\u001b[0;31m             \u001b[0manswer\u001b[0m\u001b[0;34m=\u001b[0m \u001b[0minput\u001b[0m\u001b[0;34m(\u001b[0m\u001b[0;34m)\u001b[0m\u001b[0;34m\u001b[0m\u001b[0;34m\u001b[0m\u001b[0m\n\u001b[0m\u001b[1;32m     56\u001b[0m             \u001b[0matbilde\u001b[0m\u001b[0;34m.\u001b[0m\u001b[0mappend\u001b[0m\u001b[0;34m(\u001b[0m\u001b[0manswer\u001b[0m\u001b[0;34m)\u001b[0m\u001b[0;34m\u001b[0m\u001b[0;34m\u001b[0m\u001b[0m\n\u001b[1;32m     57\u001b[0m \u001b[0;34m\u001b[0m\u001b[0m\n",
      "\u001b[0;32m~/opt/anaconda3/lib/python3.7/site-packages/ipykernel/kernelbase.py\u001b[0m in \u001b[0;36mraw_input\u001b[0;34m(self, prompt)\u001b[0m\n\u001b[1;32m    858\u001b[0m             \u001b[0mself\u001b[0m\u001b[0;34m.\u001b[0m\u001b[0m_parent_ident\u001b[0m\u001b[0;34m,\u001b[0m\u001b[0;34m\u001b[0m\u001b[0;34m\u001b[0m\u001b[0m\n\u001b[1;32m    859\u001b[0m             \u001b[0mself\u001b[0m\u001b[0;34m.\u001b[0m\u001b[0m_parent_header\u001b[0m\u001b[0;34m,\u001b[0m\u001b[0;34m\u001b[0m\u001b[0;34m\u001b[0m\u001b[0m\n\u001b[0;32m--> 860\u001b[0;31m             \u001b[0mpassword\u001b[0m\u001b[0;34m=\u001b[0m\u001b[0;32mFalse\u001b[0m\u001b[0;34m,\u001b[0m\u001b[0;34m\u001b[0m\u001b[0;34m\u001b[0m\u001b[0m\n\u001b[0m\u001b[1;32m    861\u001b[0m         )\n\u001b[1;32m    862\u001b[0m \u001b[0;34m\u001b[0m\u001b[0m\n",
      "\u001b[0;32m~/opt/anaconda3/lib/python3.7/site-packages/ipykernel/kernelbase.py\u001b[0m in \u001b[0;36m_input_request\u001b[0;34m(self, prompt, ident, parent, password)\u001b[0m\n\u001b[1;32m    888\u001b[0m             \u001b[0;32mexcept\u001b[0m \u001b[0mKeyboardInterrupt\u001b[0m\u001b[0;34m:\u001b[0m\u001b[0;34m\u001b[0m\u001b[0;34m\u001b[0m\u001b[0m\n\u001b[1;32m    889\u001b[0m                 \u001b[0;31m# re-raise KeyboardInterrupt, to truncate traceback\u001b[0m\u001b[0;34m\u001b[0m\u001b[0;34m\u001b[0m\u001b[0;34m\u001b[0m\u001b[0m\n\u001b[0;32m--> 890\u001b[0;31m                 \u001b[0;32mraise\u001b[0m \u001b[0mKeyboardInterrupt\u001b[0m\u001b[0;34m\u001b[0m\u001b[0;34m\u001b[0m\u001b[0m\n\u001b[0m\u001b[1;32m    891\u001b[0m             \u001b[0;32melse\u001b[0m\u001b[0;34m:\u001b[0m\u001b[0;34m\u001b[0m\u001b[0;34m\u001b[0m\u001b[0m\n\u001b[1;32m    892\u001b[0m                 \u001b[0;32mbreak\u001b[0m\u001b[0;34m\u001b[0m\u001b[0;34m\u001b[0m\u001b[0m\n",
      "\u001b[0;31mKeyboardInterrupt\u001b[0m: "
     ]
    }
   ],
   "source": [
    "while len(AlmostThere) !=0:\n",
    "    #Read the files\n",
    "    verbs = pd.read_csv(\"verbs.csv\")\n",
    "    df = pd.read_csv(\"VerbBender.csv\")\n",
    "    df['Date'] = pd.to_datetime(df['Date'])\n",
    "    df2 = df[pd.to_datetime(df['Date']) > today].reset_index(drop = True)\n",
    "    print(len(df2))\n",
    "    \n",
    "    #Select the perfect score\n",
    "    perfect10 =[]\n",
    "\n",
    "    for i in df2.Verb.unique():\n",
    "        if max(df2.Percent[df2.Verb == i]) == 100:\n",
    "            perfect10.append(i)\n",
    "\n",
    "    #Filter out verbs for training\n",
    "    #verbs = verbs[(verbs[14].notna())| (verbs.A2 == \"Y\")].reset_index(drop = True)\n",
    "    verbs = verbs[verbs.Infinitive.isin(AlmostThere) & ~verbs['English'].isin(perfect10)].reset_index(drop = True)\n",
    "    print(len(verbs))\n",
    "    \n",
    "    dv = 0\n",
    "    bins = []\n",
    " \n",
    "    print()\n",
    "#print(f\"Todays mission is {len(verbs[verbs['Ending'].notna()])} A2 verbs and {len(verbs.A2 == \"Y\")} irregular verbs\")\n",
    "    print(f'Todays mission is {len(verbs[verbs.Ending.notna()])} A2 verbs and {len(verbs[verbs.A2 == \"Y\"])} irregular verbs')\n",
    "    \n",
    "    for num in range(0, len(verbs)):\n",
    "\n",
    "        tenses = ['Infinitive','Present tense','Past tense','Past participle']\n",
    "\n",
    "        print()\n",
    "        print(f\"{dv/len(verbs):.0%}\")\n",
    "\n",
    "        print(verbs['English'][num])\n",
    "        \n",
    "        if verbs['A2'][num] == \"Y\":\n",
    "            print('Irregular Joe')\n",
    "        else:\n",
    "            print(verbs['Ending'][num])\n",
    "        \n",
    "        counter = 0\n",
    "        atbilde = []\n",
    "        \n",
    "        atbilde.append(datetime.datetime.now())\n",
    "        atbilde.append(verbs['English'][num])\n",
    "        \n",
    "        if verbs['A2'][num] == \"Y\":\n",
    "            print(verbs['Infinitive'][num])\n",
    "        \n",
    "        for i in tenses:\n",
    "            print(i)\n",
    "            atbilde.append(verbs[i][num])\n",
    "\n",
    "            answer= input()\n",
    "            atbilde.append(answer)      \n",
    "\n",
    "            if verbs[i][num] != answer:\n",
    "                print(verbs[i][num])\n",
    "                counter+= 1\n",
    "        print(f\"You got {(1 - counter/4):.2%}  correct\")\n",
    "\n",
    "        atbilde.append((1 - counter/4)*100)\n",
    "        df.loc[len(df)] = atbilde \n",
    "        df.to_csv(\"VerbBender.csv\", index = False) \n",
    "\n",
    "        bins.append((1 - counter/4)*100)\n",
    "\n",
    "        dv +=1\n",
    "    bins = pd.DataFrame(bins,columns=['bins'])\n",
    "    print()\n",
    "    print(\"Your summary:\")\n",
    "    print(bins.bins.value_counts())\n",
    "\n",
    "# You think you have a free will? \n",
    "VerbBender()\n",
    "    "
   ]
  }
 ],
 "metadata": {
  "kernelspec": {
   "display_name": "Python 3",
   "language": "python",
   "name": "python3"
  },
  "language_info": {
   "codemirror_mode": {
    "name": "ipython",
    "version": 3
   },
   "file_extension": ".py",
   "mimetype": "text/x-python",
   "name": "python",
   "nbconvert_exporter": "python",
   "pygments_lexer": "ipython3",
   "version": "3.7.4"
  },
  "toc": {
   "base_numbering": 1,
   "nav_menu": {},
   "number_sections": true,
   "sideBar": true,
   "skip_h1_title": false,
   "title_cell": "Table of Contents",
   "title_sidebar": "Contents",
   "toc_cell": false,
   "toc_position": {},
   "toc_section_display": true,
   "toc_window_display": false
  }
 },
 "nbformat": 4,
 "nbformat_minor": 2
}
