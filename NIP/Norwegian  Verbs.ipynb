{
 "cells": [
  {
   "cell_type": "code",
   "execution_count": 1,
   "metadata": {},
   "outputs": [
    {
     "name": "stdout",
     "output_type": "stream",
     "text": [
      "8\n"
     ]
    },
    {
     "data": {
      "text/html": [
       "<div>\n",
       "<style scoped>\n",
       "    .dataframe tbody tr th:only-of-type {\n",
       "        vertical-align: middle;\n",
       "    }\n",
       "\n",
       "    .dataframe tbody tr th {\n",
       "        vertical-align: top;\n",
       "    }\n",
       "\n",
       "    .dataframe thead th {\n",
       "        text-align: right;\n",
       "    }\n",
       "</style>\n",
       "<table border=\"1\" class=\"dataframe\">\n",
       "  <thead>\n",
       "    <tr style=\"text-align: right;\">\n",
       "      <th></th>\n",
       "      <th>Infinitiv</th>\n",
       "      <th>Presens</th>\n",
       "      <th>Preteritum</th>\n",
       "      <th>Pres. perfektum</th>\n",
       "      <th>Engelsk</th>\n",
       "    </tr>\n",
       "  </thead>\n",
       "  <tbody>\n",
       "    <tr>\n",
       "      <th>0</th>\n",
       "      <td>ha</td>\n",
       "      <td>har</td>\n",
       "      <td>hadde</td>\n",
       "      <td>har hatt</td>\n",
       "      <td>have</td>\n",
       "    </tr>\n",
       "    <tr>\n",
       "      <th>1</th>\n",
       "      <td>være</td>\n",
       "      <td>er</td>\n",
       "      <td>var</td>\n",
       "      <td>har vært</td>\n",
       "      <td>be</td>\n",
       "    </tr>\n",
       "  </tbody>\n",
       "</table>\n",
       "</div>"
      ],
      "text/plain": [
       "  Infinitiv Presens Preteritum Pres. perfektum Engelsk\n",
       "0        ha     har      hadde        har hatt    have\n",
       "1      være      er        var        har vært      be"
      ]
     },
     "execution_count": 1,
     "metadata": {},
     "output_type": "execute_result"
    }
   ],
   "source": [
    "import tabula\n",
    "from tabula import read_pdf\n",
    "pdf_path = \"https://grammatikk.com/pdf/VerbStor.pdf\"\n",
    "\n",
    "dfs = tabula.read_pdf(pdf_path, stream=True, pages=\"all\")\n",
    "# read_pdf returns list of DataFrames\n",
    "print(len(dfs))\n",
    "dfs[0]"
   ]
  },
  {
   "cell_type": "code",
   "execution_count": null,
   "metadata": {},
   "outputs": [],
   "source": [
    "for i in range(0, len(dfs)):\n",
    "    frames = []\n",
    "    print(i+1)\n",
    "    print(dfs[i])\n",
    "    frames.append(str(str(dfs)+str(i)))\n",
    "    print(\"\\n\")"
   ]
  },
  {
   "cell_type": "code",
   "execution_count": 2,
   "metadata": {},
   "outputs": [
    {
     "data": {
      "text/html": [
       "<div>\n",
       "<style scoped>\n",
       "    .dataframe tbody tr th:only-of-type {\n",
       "        vertical-align: middle;\n",
       "    }\n",
       "\n",
       "    .dataframe tbody tr th {\n",
       "        vertical-align: top;\n",
       "    }\n",
       "\n",
       "    .dataframe thead th {\n",
       "        text-align: right;\n",
       "    }\n",
       "</style>\n",
       "<table border=\"1\" class=\"dataframe\">\n",
       "  <thead>\n",
       "    <tr style=\"text-align: right;\">\n",
       "      <th></th>\n",
       "      <th>Infinitiv</th>\n",
       "      <th>Presens</th>\n",
       "      <th>Preteritum</th>\n",
       "      <th>Pres. perfektum</th>\n",
       "      <th>Engelsk</th>\n",
       "    </tr>\n",
       "  </thead>\n",
       "  <tbody>\n",
       "    <tr>\n",
       "      <th>0</th>\n",
       "      <td>henge</td>\n",
       "      <td>henger</td>\n",
       "      <td>hang</td>\n",
       "      <td>har hengt</td>\n",
       "      <td>hang (be suspended)</td>\n",
       "    </tr>\n",
       "    <tr>\n",
       "      <th>1</th>\n",
       "      <td>henge</td>\n",
       "      <td>henger</td>\n",
       "      <td>hengte</td>\n",
       "      <td>har hengt</td>\n",
       "      <td>hang (suspend)</td>\n",
       "    </tr>\n",
       "    <tr>\n",
       "      <th>2</th>\n",
       "      <td>hente</td>\n",
       "      <td>henter</td>\n",
       "      <td>hentet</td>\n",
       "      <td>har hentet</td>\n",
       "      <td>fetch, go for, collect</td>\n",
       "    </tr>\n",
       "    <tr>\n",
       "      <th>3</th>\n",
       "      <td>hete</td>\n",
       "      <td>heter</td>\n",
       "      <td>het</td>\n",
       "      <td>har hett</td>\n",
       "      <td>be called</td>\n",
       "    </tr>\n",
       "    <tr>\n",
       "      <th>4</th>\n",
       "      <td>hilse</td>\n",
       "      <td>hilser</td>\n",
       "      <td>hilste</td>\n",
       "      <td>har hilst</td>\n",
       "      <td>greet</td>\n",
       "    </tr>\n",
       "  </tbody>\n",
       "</table>\n",
       "</div>"
      ],
      "text/plain": [
       "  Infinitiv Presens Preteritum Pres. perfektum                 Engelsk\n",
       "0     henge  henger       hang       har hengt     hang (be suspended)\n",
       "1     henge  henger     hengte       har hengt          hang (suspend)\n",
       "2     hente  henter     hentet      har hentet  fetch, go for, collect\n",
       "3      hete   heter        het        har hett               be called\n",
       "4     hilse  hilser     hilste       har hilst                   greet"
      ]
     },
     "execution_count": 2,
     "metadata": {},
     "output_type": "execute_result"
    }
   ],
   "source": [
    "dfs[4].head()"
   ]
  },
  {
   "cell_type": "code",
   "execution_count": 3,
   "metadata": {},
   "outputs": [],
   "source": [
    "import pandas as pd"
   ]
  },
  {
   "cell_type": "code",
   "execution_count": 4,
   "metadata": {},
   "outputs": [],
   "source": [
    "df = dfs[0]\n",
    "#for i in range(len(dfs)):\n",
    "for i in range(1, len(dfs)):\n",
    "    df = df.append(dfs[i] , ignore_index=True)\n"
   ]
  },
  {
   "cell_type": "code",
   "execution_count": 5,
   "metadata": {},
   "outputs": [
    {
     "name": "stdout",
     "output_type": "stream",
     "text": [
      "    Infinitiv Presens Preteritum Pres. perfektum              Engelsk\n",
      "0          ha     har      hadde        har hatt                 have\n",
      "1        være      er        var        har vært                   be\n",
      "2       burde     bør      burde      har burdet             ought to\n",
      "3       kunne     kan      kunne      har kunnet                  can\n",
      "4       måtte      må      måtte      har måttet                 must\n",
      "..        ...     ...        ...             ...                  ...\n",
      "244      vite     vet     visste       har visst     know (knowledge)\n",
      "245     vokse  vokser     vokste       har vokst  grow, increase, wax\n",
      "246     våkne  våkner     våknet      har våknet              wake up\n",
      "247     ønske  ønsker     ønsket      har ønsket         desire, wish\n",
      "248       øve    øver       øvde         har øvd   practice, exercize\n",
      "\n",
      "[249 rows x 5 columns]\n"
     ]
    }
   ],
   "source": [
    "print(df.head)"
   ]
  }
 ],
 "metadata": {
  "kernelspec": {
   "display_name": "Python 3",
   "language": "python",
   "name": "python3"
  },
  "language_info": {
   "codemirror_mode": {
    "name": "ipython",
    "version": 3
   },
   "file_extension": ".py",
   "mimetype": "text/x-python",
   "name": "python",
   "nbconvert_exporter": "python",
   "pygments_lexer": "ipython3",
   "version": "3.7.4"
  }
 },
 "nbformat": 4,
 "nbformat_minor": 2
}
