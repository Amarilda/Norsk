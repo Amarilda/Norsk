{
 "cells": [
  {
   "cell_type": "code",
   "execution_count": 1,
   "metadata": {
    "ExecuteTime": {
     "end_time": "2021-01-13T15:07:31.329202Z",
     "start_time": "2021-01-13T15:07:23.607336Z"
    }
   },
   "outputs": [],
   "source": [
    "import pandas as pd\n",
    "from fuzzywuzzy import fuzz\n",
    "from fuzzywuzzy import process\n",
    "from datetime import datetime\n",
    "import random\n",
    "import datetime"
   ]
  },
  {
   "cell_type": "markdown",
   "metadata": {},
   "source": [
    "https://www.datacamp.com/community/tutorials/fuzzy-string-python\n",
    "https://stackabuse.com/levenshtein-distance-and-text-similarity-in-python/"
   ]
  },
  {
   "cell_type": "code",
   "execution_count": 55,
   "metadata": {
    "ExecuteTime": {
     "end_time": "2021-01-13T15:25:10.613371Z",
     "start_time": "2021-01-13T15:25:10.138491Z"
    }
   },
   "outputs": [],
   "source": [
    "#Read all sheeets\n",
    "df= pd.read_excel(\"babbel2.xlsx\", sheet_name = None)\n",
    "\n",
    "df1 = df['vocab']\n",
    "df2 = df['REPP']"
   ]
  },
  {
   "cell_type": "code",
   "execution_count": 3,
   "metadata": {
    "ExecuteTime": {
     "end_time": "2021-01-13T15:07:32.053628Z",
     "start_time": "2021-01-13T15:07:32.039261Z"
    }
   },
   "outputs": [
    {
     "data": {
      "text/plain": [
       "dict_keys(['REPP', 'vocab', 'vocab1'])"
      ]
     },
     "execution_count": 3,
     "metadata": {},
     "output_type": "execute_result"
    }
   ],
   "source": [
    "df.keys()"
   ]
  },
  {
   "cell_type": "markdown",
   "metadata": {
    "ExecuteTime": {
     "end_time": "2021-01-13T14:59:06.468080Z",
     "start_time": "2021-01-13T14:59:06.451184Z"
    }
   },
   "source": [
    "df.values()"
   ]
  },
  {
   "cell_type": "code",
   "execution_count": 4,
   "metadata": {
    "ExecuteTime": {
     "end_time": "2021-01-13T15:07:32.107414Z",
     "start_time": "2021-01-13T15:07:32.057140Z"
    }
   },
   "outputs": [
    {
     "data": {
      "text/html": [
       "<div>\n",
       "<style scoped>\n",
       "    .dataframe tbody tr th:only-of-type {\n",
       "        vertical-align: middle;\n",
       "    }\n",
       "\n",
       "    .dataframe tbody tr th {\n",
       "        vertical-align: top;\n",
       "    }\n",
       "\n",
       "    .dataframe thead th {\n",
       "        text-align: right;\n",
       "    }\n",
       "</style>\n",
       "<table border=\"1\" class=\"dataframe\">\n",
       "  <thead>\n",
       "    <tr style=\"text-align: right;\">\n",
       "      <th></th>\n",
       "      <th>NORWEGIAN</th>\n",
       "      <th>English</th>\n",
       "      <th>Source</th>\n",
       "      <th>Last time not known</th>\n",
       "    </tr>\n",
       "  </thead>\n",
       "  <tbody>\n",
       "    <tr>\n",
       "      <th>0</th>\n",
       "      <td>abonnere</td>\n",
       "      <td>to subscribe</td>\n",
       "      <td>NaN</td>\n",
       "      <td>NaT</td>\n",
       "    </tr>\n",
       "    <tr>\n",
       "      <th>1</th>\n",
       "      <td>abstrakt</td>\n",
       "      <td>abstract</td>\n",
       "      <td>NaN</td>\n",
       "      <td>NaT</td>\n",
       "    </tr>\n",
       "    <tr>\n",
       "      <th>2</th>\n",
       "      <td>adoptere</td>\n",
       "      <td>to adopt</td>\n",
       "      <td>NaN</td>\n",
       "      <td>NaT</td>\n",
       "    </tr>\n",
       "    <tr>\n",
       "      <th>3</th>\n",
       "      <td>ærlig</td>\n",
       "      <td>honest</td>\n",
       "      <td>NaN</td>\n",
       "      <td>NaT</td>\n",
       "    </tr>\n",
       "    <tr>\n",
       "      <th>4</th>\n",
       "      <td>aggressiv</td>\n",
       "      <td>aggressive</td>\n",
       "      <td>NaN</td>\n",
       "      <td>NaT</td>\n",
       "    </tr>\n",
       "    <tr>\n",
       "      <th>...</th>\n",
       "      <td>...</td>\n",
       "      <td>...</td>\n",
       "      <td>...</td>\n",
       "      <td>...</td>\n",
       "    </tr>\n",
       "    <tr>\n",
       "      <th>2186</th>\n",
       "      <td>loe</td>\n",
       "      <td>NaN</td>\n",
       "      <td>z</td>\n",
       "      <td>2021-01-13 15:00:26.059</td>\n",
       "    </tr>\n",
       "    <tr>\n",
       "      <th>2187</th>\n",
       "      <td>ler</td>\n",
       "      <td>NaN</td>\n",
       "      <td>jup;</td>\n",
       "      <td>2021-01-13 15:04:15.005</td>\n",
       "    </tr>\n",
       "    <tr>\n",
       "      <th>2188</th>\n",
       "      <td>lesr</td>\n",
       "      <td>NaN</td>\n",
       "      <td>outer space</td>\n",
       "      <td>2021-01-13 15:05:11.378</td>\n",
       "    </tr>\n",
       "    <tr>\n",
       "      <th>2189</th>\n",
       "      <td>lsr</td>\n",
       "      <td>NaN</td>\n",
       "      <td>space</td>\n",
       "      <td>2021-01-13 15:11:01.756</td>\n",
       "    </tr>\n",
       "    <tr>\n",
       "      <th>2190</th>\n",
       "      <td>lr</td>\n",
       "      <td>boo</td>\n",
       "      <td>hoo</td>\n",
       "      <td>2021-01-13 15:17:48.779</td>\n",
       "    </tr>\n",
       "  </tbody>\n",
       "</table>\n",
       "<p>2191 rows × 4 columns</p>\n",
       "</div>"
      ],
      "text/plain": [
       "      NORWEGIAN       English       Source     Last time not known\n",
       "0      abonnere  to subscribe          NaN                     NaT\n",
       "1      abstrakt      abstract          NaN                     NaT\n",
       "2      adoptere      to adopt          NaN                     NaT\n",
       "3         ærlig        honest          NaN                     NaT\n",
       "4     aggressiv    aggressive          NaN                     NaT\n",
       "...         ...           ...          ...                     ...\n",
       "2186        loe           NaN            z 2021-01-13 15:00:26.059\n",
       "2187        ler           NaN         jup; 2021-01-13 15:04:15.005\n",
       "2188       lesr           NaN  outer space 2021-01-13 15:05:11.378\n",
       "2189        lsr           NaN        space 2021-01-13 15:11:01.756\n",
       "2190         lr           boo          hoo 2021-01-13 15:17:48.779\n",
       "\n",
       "[2191 rows x 4 columns]"
      ]
     },
     "execution_count": 4,
     "metadata": {},
     "output_type": "execute_result"
    }
   ],
   "source": [
    "df['REPP']"
   ]
  },
  {
   "cell_type": "markdown",
   "metadata": {
    "ExecuteTime": {
     "end_time": "2021-01-13T13:19:40.476091Z",
     "start_time": "2021-01-13T13:19:40.464800Z"
    }
   },
   "source": [
    "str2Match = \"\"\n",
    "strOptions = [\"Apple Inc.\",\"apple park\",\"apple incorporated\",\"iphone\"]\n",
    "Ratios = process.extract(str2Match,strOptions)\n",
    "print(Ratios)\n",
    "# You can also select the string with the highest matching percentage\n",
    "highest = process.extractOne(str2Match,strOptions)\n",
    "print(highest)"
   ]
  },
  {
   "cell_type": "markdown",
   "metadata": {
    "ExecuteTime": {
     "end_time": "2021-01-13T13:23:05.299167Z",
     "start_time": "2021-01-13T13:23:01.449869Z"
    }
   },
   "source": [
    "for i in df['NORWEGIAN'].unique():\n",
    "    Ratios = process.extract(i,df.NORWEGIAN, limit = 10)\n",
    "    print(i, Ratios)"
   ]
  },
  {
   "cell_type": "markdown",
   "metadata": {
    "ExecuteTime": {
     "end_time": "2021-01-13T13:37:53.529559Z",
     "start_time": "2021-01-13T13:37:53.519500Z"
    }
   },
   "source": [
    "from fuzzywuzzy import fuzz\n",
    "Str1 = \"abonnere\"\n",
    "Str2 = \"abonnerte\"\n",
    "Ratio = fuzz.ratio(Str1.lower(),Str2.lower())\n",
    "Partial_Ratio = fuzz.partial_ratio(Str1.lower(),Str2.lower())\n",
    "Token_Sort_Ratio = fuzz.token_sort_ratio(Str1,Str2)\n",
    "Token_Set_Ratio = fuzz.token_set_ratio(Str1,Str2)"
   ]
  },
  {
   "cell_type": "markdown",
   "metadata": {
    "ExecuteTime": {
     "end_time": "2021-01-13T13:37:53.923218Z",
     "start_time": "2021-01-13T13:37:53.916548Z"
    }
   },
   "source": [
    "print(Ratio)\n",
    "print(Partial_Ratio)\n",
    "print(Token_Sort_Ratio)\n",
    "print(Token_Set_Ratio)"
   ]
  },
  {
   "cell_type": "code",
   "execution_count": 60,
   "metadata": {
    "ExecuteTime": {
     "end_time": "2021-01-13T15:27:09.098518Z",
     "start_time": "2021-01-13T15:27:09.087366Z"
    }
   },
   "outputs": [],
   "source": [
    "def NOK(i):\n",
    "    Ratios = process.extract(i,df1.NORWEGIAN, limit = 5)\n",
    "    print(i, Ratios)\n",
    "    print()\n",
    "    atbilde = []\n",
    "    found = \"\"\n",
    "    if Ratios[0][1] != 100:\n",
    "        enter = input(\"Does this need to be entered?\").lower()\n",
    "        if enter == \"y\":\n",
    "            meaning = input(\"What is english transaltion of this word?\")\n",
    "            where = input(\"Where does this word come from?\")\n",
    "            atbilde.extend([i, meaning,where,datetime.datetime.now()])\n",
    "            df1.loc[len(df1)] = atbilde\n",
    "            \n",
    "            with pd.ExcelWriter('Babbel2.xlsx',  engine='openpyxl') as writer:  \n",
    "                df1.to_excel(writer, sheet_name='vocab', index = False)\n",
    "            print(f'{i} has been added to the Edites Corpus')\n",
    "        \n",
    "    \n",
    "        elif enter == \"n\":\n",
    "            while found not in df2.NORWEGIAN.values:\n",
    "                found = input(\"Which word is it?\")\n",
    "        print()\n",
    "        #print(df[df.NORWEGIAN == found][1])\n",
    "        #print(df[df.NORWEGIAN == found][2])\n",
    "        \n",
    "        #atbilde.extend([i, meaning,where,datetime.datetime.now()])\n",
    "            \n",
    "    else:\n",
    "        #atbilde.extend([i, meaning,where,datetime.datetime.now()])\n",
    "        where = input(\"Where does this word come from?\")\n",
    "        print(i, where, datetime.datetime.now())\n"
   ]
  },
  {
   "cell_type": "code",
   "execution_count": 62,
   "metadata": {
    "ExecuteTime": {
     "end_time": "2021-01-13T15:27:46.336001Z",
     "start_time": "2021-01-13T15:27:20.652750Z"
    }
   },
   "outputs": [
    {
     "name": "stdout",
     "output_type": "stream",
     "text": [
      "Kenn [('en', 90, 142), ('nå', 90, 1748), ('Ken', 86, 2192), ('kjenne', 80, 1601), ('et laken', 77, 1195)]\n",
      "\n",
      "Does this need to be entered?y\n",
      "What is english transaltion of this word?barbie\n",
      "Where does this word come from?barbieworld\n",
      "Kenn has been added to the Edites Corpus\n",
      "\n"
     ]
    }
   ],
   "source": [
    "NOK(\"Kenn\")"
   ]
  },
  {
   "cell_type": "code",
   "execution_count": null,
   "metadata": {},
   "outputs": [],
   "source": []
  }
 ],
 "metadata": {
  "kernelspec": {
   "display_name": "Python 3",
   "language": "python",
   "name": "python3"
  },
  "language_info": {
   "codemirror_mode": {
    "name": "ipython",
    "version": 3
   },
   "file_extension": ".py",
   "mimetype": "text/x-python",
   "name": "python",
   "nbconvert_exporter": "python",
   "pygments_lexer": "ipython3",
   "version": "3.7.4"
  },
  "toc": {
   "base_numbering": 1,
   "nav_menu": {},
   "number_sections": true,
   "sideBar": true,
   "skip_h1_title": false,
   "title_cell": "Table of Contents",
   "title_sidebar": "Contents",
   "toc_cell": false,
   "toc_position": {},
   "toc_section_display": true,
   "toc_window_display": false
  }
 },
 "nbformat": 4,
 "nbformat_minor": 2
}
